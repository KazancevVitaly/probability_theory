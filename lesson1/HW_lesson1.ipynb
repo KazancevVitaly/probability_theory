{
 "cells": [
  {
   "cell_type": "markdown",
   "id": "f86ed169",
   "metadata": {},
   "source": [
    "# Видеокурс по теории вероятностей и математической статистике\n",
    "# GeekBrains\n",
    "## ДЗ Урока 1\n",
    "## Казанцев Виталий"
   ]
  },
  {
   "cell_type": "markdown",
   "id": "c8050dcc",
   "metadata": {},
   "source": [
    "#### Задача 1\n",
    "\n",
    "Имеется колода в 52 карты. Найти число возможностей вытянуть из неё 4 карты так, чтобы среди них был хотя бы один туз."
   ]
  },
  {
   "cell_type": "markdown",
   "id": "c6036dba",
   "metadata": {},
   "source": [
    "Задача аналогична примеру 6 из урока.\n",
    "Сначала представим себе ситуацию когда выбирается один туз из колоды.\n",
    "### $C_{4}^{1}=\\frac{4!}{1!(4-1)!}=4$\n"
   ]
  },
  {
   "cell_type": "code",
   "execution_count": 1,
   "id": "0ea92ede",
   "metadata": {},
   "outputs": [
    {
     "data": {
      "text/plain": [
       "4"
      ]
     },
     "execution_count": 1,
     "metadata": {},
     "output_type": "execute_result"
    }
   ],
   "source": [
    "import numpy as np\n",
    "def combinations(n, k):\n",
    "    return np.math.factorial(n) // (np.math.factorial(k) * np.math.factorial(n - k))\n",
    "combinations(4, 1)"
   ]
  },
  {
   "cell_type": "markdown",
   "id": "c76fa4c8",
   "metadata": {},
   "source": [
    "Остальные три карты выбираются из 48 карт.\n",
    "### $С_{48}^{3}=\\frac{48!}{3!(48-3)!}=17296$"
   ]
  },
  {
   "cell_type": "code",
   "execution_count": 2,
   "id": "6034bdae",
   "metadata": {},
   "outputs": [
    {
     "data": {
      "text/plain": [
       "17296"
      ]
     },
     "execution_count": 2,
     "metadata": {},
     "output_type": "execute_result"
    }
   ],
   "source": [
    "combinations(48, 3)"
   ]
  },
  {
   "cell_type": "markdown",
   "id": "d17c72e4",
   "metadata": {},
   "source": [
    "И в таком случае, когда из колоды общим числом в 52 карты выбрано 4 карты с одним тузом будет равно:\n",
    "### $4\\cdot17296=69184$   "
   ]
  },
  {
   "cell_type": "code",
   "execution_count": 3,
   "id": "7033cdd7",
   "metadata": {},
   "outputs": [
    {
     "data": {
      "text/plain": [
       "69184"
      ]
     },
     "execution_count": 3,
     "metadata": {},
     "output_type": "execute_result"
    }
   ],
   "source": [
    "a = combinations(4, 1)*combinations(48, 3)\n",
    "a"
   ]
  },
  {
   "cell_type": "markdown",
   "id": "455c6758",
   "metadata": {},
   "source": [
    "Теперь рассмотрим число возможностей на тот случай, кода среди выбранных карт не один, а два туза"
   ]
  },
  {
   "cell_type": "code",
   "execution_count": 4,
   "id": "1f0a80ec",
   "metadata": {},
   "outputs": [
    {
     "data": {
      "text/plain": [
       "6768"
      ]
     },
     "execution_count": 4,
     "metadata": {},
     "output_type": "execute_result"
    }
   ],
   "source": [
    "b = combinations(4, 2)*combinations(48, 2)\n",
    "b"
   ]
  },
  {
   "cell_type": "markdown",
   "id": "475bee06",
   "metadata": {},
   "source": [
    "Cлучай, когда три туза"
   ]
  },
  {
   "cell_type": "code",
   "execution_count": 5,
   "id": "b678f50b",
   "metadata": {},
   "outputs": [
    {
     "data": {
      "text/plain": [
       "192"
      ]
     },
     "execution_count": 5,
     "metadata": {},
     "output_type": "execute_result"
    }
   ],
   "source": [
    "c = combinations(4, 3)*combinations(48, 1)\n",
    "c"
   ]
  },
  {
   "cell_type": "markdown",
   "id": "ff9882ab",
   "metadata": {},
   "source": [
    "И случай, когда все четыре карты тузы."
   ]
  },
  {
   "cell_type": "code",
   "execution_count": 6,
   "id": "8c6de223",
   "metadata": {},
   "outputs": [
    {
     "data": {
      "text/plain": [
       "1"
      ]
     },
     "execution_count": 6,
     "metadata": {},
     "output_type": "execute_result"
    }
   ],
   "source": [
    "d = combinations(4, 4)*combinations(48, 0)\n",
    "d"
   ]
  },
  {
   "cell_type": "markdown",
   "id": "0ed86183",
   "metadata": {},
   "source": [
    "Таким образом число возможностей, будет равно сумме этих возможностей"
   ]
  },
  {
   "cell_type": "code",
   "execution_count": 7,
   "id": "e971a30d",
   "metadata": {},
   "outputs": [
    {
     "data": {
      "text/plain": [
       "76145"
      ]
     },
     "execution_count": 7,
     "metadata": {},
     "output_type": "execute_result"
    }
   ],
   "source": [
    "a+b+c+d"
   ]
  },
  {
   "cell_type": "markdown",
   "id": "5ae30de4",
   "metadata": {},
   "source": [
    "Ответ: общее число возможностей вытянуть из колоды в 52 карты 4 карты так, чтобы среди них был хотя бы один туз, равно 76145"
   ]
  },
  {
   "cell_type": "markdown",
   "id": "f18f8bd1",
   "metadata": {},
   "source": [
    "### Задачи 2 и 3\n",
    "\n",
    "Из 60 вопросов, входящих в экзаменационные билеты, студент знает 50. Случайным образом студент вытягивает 3 вопроса. Какова вероятность, что все выбранные вопросы знакомы студенту? Какова вероятность что два из трёх вопросов знакомы студенту?"
   ]
  },
  {
   "cell_type": "markdown",
   "id": "67f1bfcf",
   "metadata": {},
   "source": [
    "### $\\text{У нас есть два события. Первое событие } A \\text{ студент вытянул билет, ответ на который он знает}$\n",
    "### $\\text{Второе событие } \\overline A \\text{ событие не-А, т.е. студент не занет ответ на вопрос в билете}$\n",
    "Когда студент тянет первый билет, то вероятность того, что он вытянет билет с вопросм, ответ на который знаент равна:\n",
    "### $A_1=\\frac{5}{6}$ \n",
    "После этого события у нас остается 59 вопросов, из которых студент знает 49, а значит\n",
    "### $A_2=\\frac{49}{59}$\n",
    "Теперь осталось 58 билетов, из которых 48 известны нашему студенту, значит:\n",
    "### $A_3=\\frac{48}{58}=\\frac{24}{29}$\n",
    "Первое, второе и третье событие независимы друг от друга. а значит вероятность наступления и $A_1$ и $A_2$ и $A_3$ равна произведению вероятностей этих событий, т.е\n",
    "### $P=A_1\\cdot A_2\\cdot A_3=\\frac{5\\cdot 49\\cdot 24}{6\\cdot 59\\cdot 29}\\approx 0.57$"
   ]
  },
  {
   "cell_type": "markdown",
   "id": "f15e139e",
   "metadata": {},
   "source": [
    "Ответ на тертий вопрос может зависить от того, каким билетом студент вытянет билет, ответ на который не знает. Если третьим, тогда вероятность $\\overline A_3 = \\frac{10}{58}=\\frac{5}{29}$, тогда:\n",
    "### $P_1=A_1\\cdot A_2\\cdot \\overline A_3=\\frac{5\\cdot 49\\cdot 5}{6\\cdot 59\\cdot 29}\\approx 0.12$"
   ]
  },
  {
   "cell_type": "markdown",
   "id": "73a9f6af",
   "metadata": {},
   "source": [
    "Если незнакомый билет студент вытянет первым, тогда $\\overline A_1=\\frac{1}{6}$; $A_2=\\frac{50}{59}$; $A_3=\\frac{49}{58}$, тогда:\n",
    "### $P_2=\\overline A_1\\cdot A_2\\cdot A_3=\\frac{1\\cdot 50\\cdot 49}{6\\cdot 59\\cdot 58}\\approx 0.12$"
   ]
  },
  {
   "cell_type": "markdown",
   "id": "039f7752",
   "metadata": {},
   "source": [
    "Если незнакомы билет попадётся во вторую очередь, тогда $A_1=\\frac{5}{6}$; $\\overline A_2=\\frac{10}{59}$; $A_3=\\frac{49}{58}$, тогда:\n",
    "### $P_3=\\frac{5\\cdot 10\\cdot 49}{6\\cdot59\\cdot58}\\approx 0.12$"
   ]
  },
  {
   "cell_type": "markdown",
   "id": "41624486",
   "metadata": {},
   "source": [
    "Вероятность, что произойдет одно из трех событий равна\n",
    "### $P=P_1+P_2+P_3\\approx0.36$"
   ]
  },
  {
   "cell_type": "markdown",
   "id": "941e7e81",
   "metadata": {},
   "source": [
    "Или другим способом.  \n",
    "Общее число возможных комбинаций трех билетов из 60 $C_{60}^3=\\frac{60!}{3!\\cdot57!}$"
   ]
  },
  {
   "cell_type": "code",
   "execution_count": 8,
   "id": "ef159f0d",
   "metadata": {
    "scrolled": true
   },
   "outputs": [
    {
     "data": {
      "text/plain": [
       "34220"
      ]
     },
     "execution_count": 8,
     "metadata": {},
     "output_type": "execute_result"
    }
   ],
   "source": [
    "a = combinations(60, 3)\n",
    "a"
   ]
  },
  {
   "cell_type": "markdown",
   "id": "307b8321",
   "metadata": {},
   "source": [
    "число благоприятных комбинаций, когда все три билета известны $C_{50}^3$"
   ]
  },
  {
   "cell_type": "code",
   "execution_count": 9,
   "id": "302ddbf9",
   "metadata": {},
   "outputs": [
    {
     "data": {
      "text/plain": [
       "19600"
      ]
     },
     "execution_count": 9,
     "metadata": {},
     "output_type": "execute_result"
    }
   ],
   "source": [
    "b = combinations(50, 3)\n",
    "b"
   ]
  },
  {
   "cell_type": "markdown",
   "id": "7cdafe70",
   "metadata": {},
   "source": [
    "ТОгда вероятность такого исхода"
   ]
  },
  {
   "cell_type": "code",
   "execution_count": 10,
   "id": "b6659e0c",
   "metadata": {},
   "outputs": [
    {
     "data": {
      "text/plain": [
       "0.5727644652250146"
      ]
     },
     "execution_count": 10,
     "metadata": {},
     "output_type": "execute_result"
    }
   ],
   "source": [
    "result_2 = b / a\n",
    "result_2"
   ]
  },
  {
   "cell_type": "markdown",
   "id": "3c3fdae1",
   "metadata": {},
   "source": [
    "число возможных варианотов когда два билета известны, а один нет равна $C_{50}^2\\cdotC_{10}^1$"
   ]
  },
  {
   "cell_type": "code",
   "execution_count": 11,
   "id": "a1461aad",
   "metadata": {},
   "outputs": [
    {
     "data": {
      "text/plain": [
       "12250"
      ]
     },
     "execution_count": 11,
     "metadata": {},
     "output_type": "execute_result"
    }
   ],
   "source": [
    "c = combinations(50, 2)*combinations(10, 1)\n",
    "c"
   ]
  },
  {
   "cell_type": "markdown",
   "id": "368ee576",
   "metadata": {},
   "source": [
    "Тогда вероятность такого события"
   ]
  },
  {
   "cell_type": "code",
   "execution_count": 12,
   "id": "34a7317c",
   "metadata": {},
   "outputs": [
    {
     "data": {
      "text/plain": [
       "0.35797779076563413"
      ]
     },
     "execution_count": 12,
     "metadata": {},
     "output_type": "execute_result"
    }
   ],
   "source": [
    "result_3 = c / a\n",
    "result_3"
   ]
  },
  {
   "cell_type": "markdown",
   "id": "5a542d17",
   "metadata": {},
   "source": [
    "Ответ: У студента около 57% шанс на то, что все билеты будут ему знакомы,  и около 36%, что попадется один неизвестный билет"
   ]
  },
  {
   "cell_type": "markdown",
   "id": "e35c314a",
   "metadata": {},
   "source": [
    "### Задача 4\n",
    "\n",
    "Допустим, имеется некоторая очень редкая болезнь (поражает 0.1% населения). Вы приходите к врачу, вам делают тест на эту болезнь, и тест оказывается положительным. Врач говорит вам, что этот тест верно выявляет 99% больных этой болезнью и всего лишь в 1% случаев даёт ложный положительный ответ.\n",
    "\n",
    "Вопрос: какова вероятность, что вы действительно больны ей?\n",
    "\n",
    "Подсказка: используйте формулу Байеса с раскрытием знаменателя с помощью формулы полной вероятности."
   ]
  },
  {
   "cell_type": "markdown",
   "id": "9cfabe39",
   "metadata": {},
   "source": [
    "$$P(B\\:|\\:A) = \\frac{P(A\\:|\\:B) \\cdot P(B)}{P(A)}$$"
   ]
  },
  {
   "cell_type": "markdown",
   "id": "df6b0054",
   "metadata": {},
   "source": [
    "Пусть событие $B_1$ означает, что я болен и равно 0.001, а событие $B_2$ означает, что я не болен и равно 0.999. Событие А будет означать положительный тест, который верен в 99% случаев.  \n",
    "Тогда вероятность того, что я болен при условии, что тест верный будет расчитываться по формуле:\n",
    "### $P(B_1|A)=\\frac{P(A|B_1)\\cdot P(B_1)}{P(A)}$"
   ]
  },
  {
   "cell_type": "markdown",
   "id": "f2468860",
   "metadata": {},
   "source": [
    "Кроме того нам известно, что:\n",
    "### $P(A|B_1)=0.99$\n",
    "### $P(A|B_2)=0.01$\n",
    "Тогда:\n",
    "### $P(A)=B_1\\cdot(A|B_1)+B_2\\cdot(A|B_2)=0.001\\cdot0.99+0.999\\cdot0.01 =0.01098$"
   ]
  },
  {
   "cell_type": "markdown",
   "id": "61ace962",
   "metadata": {},
   "source": [
    "Получается:\n",
    "### $P(B_1|A)=\\frac{0.99\\cdot0.001}{0.01098}\\approx0,09$"
   ]
  },
  {
   "cell_type": "markdown",
   "id": "0a790831",
   "metadata": {},
   "source": [
    "Ответ: Вероятность того, что я имею заболевание, которым болеют 1 человек из тысячи, при условии что тест дал положительный результат равна примерно 9%."
   ]
  },
  {
   "cell_type": "code",
   "execution_count": null,
   "id": "5dd41502",
   "metadata": {},
   "outputs": [],
   "source": []
  }
 ],
 "metadata": {
  "kernelspec": {
   "display_name": "Python 3",
   "language": "python",
   "name": "python3"
  },
  "language_info": {
   "codemirror_mode": {
    "name": "ipython",
    "version": 3
   },
   "file_extension": ".py",
   "mimetype": "text/x-python",
   "name": "python",
   "nbconvert_exporter": "python",
   "pygments_lexer": "ipython3",
   "version": "3.8.8"
  }
 },
 "nbformat": 4,
 "nbformat_minor": 5
}
