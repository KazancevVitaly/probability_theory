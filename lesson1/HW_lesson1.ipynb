{
 "cells": [
  {
   "cell_type": "markdown",
   "id": "82e56c91",
   "metadata": {},
   "source": [
    "# Видеокурс по теории вероятностей и математической статистике\n",
    "# GeekBrains\n",
    "## ДЗ Урока 1\n",
    "## Казанцев Виталий"
   ]
  },
  {
   "cell_type": "markdown",
   "id": "9c82cef8",
   "metadata": {},
   "source": [
    "#### Задача 1\n",
    "\n",
    "Имеется колода в 52 карты. Найти число возможностей вытянуть из неё 4 карты так, чтобы среди них был хотя бы один туз."
   ]
  },
  {
   "cell_type": "markdown",
   "id": "8854cf64",
   "metadata": {},
   "source": [
    "Задача аналогична примеру 6 из урока.\n",
    "Сначала представим себе ситуацию когда выбирается один туз из колоды.\n",
    "### $C_{4}^{1}=\\frac{4!}{1!(4-1)!}=4$\n"
   ]
  },
  {
   "cell_type": "code",
   "execution_count": 1,
   "id": "fc82839d",
   "metadata": {},
   "outputs": [
    {
     "data": {
      "text/plain": [
       "4"
      ]
     },
     "execution_count": 1,
     "metadata": {},
     "output_type": "execute_result"
    }
   ],
   "source": [
    "import numpy as np\n",
    "def combinations(n, k):\n",
    "    return np.math.factorial(n) // (np.math.factorial(k) * np.math.factorial(n - k))\n",
    "combinations(4, 1)"
   ]
  },
  {
   "cell_type": "markdown",
   "id": "b292bd8a",
   "metadata": {},
   "source": [
    "Остальные три карты выбираются из 48 карт.\n",
    "### $С_{48}^{3}=\\frac{48!}{3!(48-3)!}=17296$"
   ]
  },
  {
   "cell_type": "code",
   "execution_count": 2,
   "id": "d101b27e",
   "metadata": {},
   "outputs": [
    {
     "data": {
      "text/plain": [
       "17296"
      ]
     },
     "execution_count": 2,
     "metadata": {},
     "output_type": "execute_result"
    }
   ],
   "source": [
    "combinations(48, 3)"
   ]
  },
  {
   "cell_type": "markdown",
   "id": "2a582095",
   "metadata": {},
   "source": [
    "И в таком случае, когда из колоды общим числом в 52 карты выбрано 4 карты с одним тузом будет равно:\n",
    "### $4\\cdot17296=69184$   "
   ]
  },
  {
   "cell_type": "code",
   "execution_count": 3,
   "id": "37c8360c",
   "metadata": {},
   "outputs": [
    {
     "data": {
      "text/plain": [
       "69184"
      ]
     },
     "execution_count": 3,
     "metadata": {},
     "output_type": "execute_result"
    }
   ],
   "source": [
    "a = combinations(4, 1)*combinations(48, 3)\n",
    "a"
   ]
  },
  {
   "cell_type": "markdown",
   "id": "2a50655e",
   "metadata": {},
   "source": [
    "Теперь рассмотрим число возможностей на тот случай, кода среди выбранных карт не один, а два туза"
   ]
  },
  {
   "cell_type": "code",
   "execution_count": 4,
   "id": "4b660b35",
   "metadata": {},
   "outputs": [
    {
     "data": {
      "text/plain": [
       "6768"
      ]
     },
     "execution_count": 4,
     "metadata": {},
     "output_type": "execute_result"
    }
   ],
   "source": [
    "b = combinations(4, 2)*combinations(48, 2)\n",
    "b"
   ]
  },
  {
   "cell_type": "markdown",
   "id": "036b35de",
   "metadata": {},
   "source": [
    "Cлучай, когда три туза"
   ]
  },
  {
   "cell_type": "code",
   "execution_count": 5,
   "id": "c0a94ea6",
   "metadata": {},
   "outputs": [
    {
     "data": {
      "text/plain": [
       "192"
      ]
     },
     "execution_count": 5,
     "metadata": {},
     "output_type": "execute_result"
    }
   ],
   "source": [
    "c = combinations(4, 3)*combinations(48, 1)\n",
    "c"
   ]
  },
  {
   "cell_type": "markdown",
   "id": "b2ea411b",
   "metadata": {},
   "source": [
    "И случай, когда все четыре карты тузы."
   ]
  },
  {
   "cell_type": "code",
   "execution_count": 6,
   "id": "7b8d096f",
   "metadata": {},
   "outputs": [
    {
     "data": {
      "text/plain": [
       "1"
      ]
     },
     "execution_count": 6,
     "metadata": {},
     "output_type": "execute_result"
    }
   ],
   "source": [
    "d = combinations(4, 4)*combinations(48, 0)\n",
    "d"
   ]
  },
  {
   "cell_type": "markdown",
   "id": "d315cfed",
   "metadata": {},
   "source": [
    "Таким образом число возможностей, будет равно сумме этих возможностей"
   ]
  },
  {
   "cell_type": "code",
   "execution_count": 7,
   "id": "a4454704",
   "metadata": {},
   "outputs": [
    {
     "data": {
      "text/plain": [
       "76145"
      ]
     },
     "execution_count": 7,
     "metadata": {},
     "output_type": "execute_result"
    }
   ],
   "source": [
    "a+b+c+d"
   ]
  },
  {
   "cell_type": "markdown",
   "id": "2e11e84c",
   "metadata": {},
   "source": [
    "Ответ: общее число возможностей вытянуть из колоды в 52 карты 4 карты так, чтобы среди них был хотя бы один туз, равно 76145"
   ]
  },
  {
   "cell_type": "markdown",
   "id": "6cd4a7e8",
   "metadata": {},
   "source": [
    "### Задачи 2 и 3\n",
    "\n",
    "Из 60 вопросов, входящих в экзаменационные билеты, студент знает 50. Случайным образом студент вытягивает 3 вопроса. Какова вероятность, что все выбранные вопросы знакомы студенту? Какова вероятность что два из трёх вопросов знакомы студенту?"
   ]
  },
  {
   "cell_type": "markdown",
   "id": "ed2ccec5",
   "metadata": {},
   "source": [
    "### $\\text{У нас есть два события. Первое событие } A \\text{ студент вытянул билет, ответ на который он знает}$\n",
    "### $\\text{Второе событие } \\overline A \\text{ событие не-А, т.е. студент не занет ответ на вопрос в билете}$\n",
    "Когда студент тянет первый билет, то вероятность того, что он вытянет билет с вопросм, ответ на который знаент равна:\n",
    "### $A_1=\\frac{5}{6}$ \n",
    "После этого события у нас остается 59 вопросов, из которых студент знает 49, а значит\n",
    "### $A_2=\\frac{49}{59}$\n",
    "Теперь осталось 58 билетов, из которых 48 известны нашему студенту, значит:\n",
    "### $A_3=\\frac{48}{58}=\\frac{24}{29}$\n",
    "Первое, второе и третье событие независимы друг от друга. а значит вероятность наступления и $A_1$ и $A_2$ и $A_3$ равна произведению вероятностей этих событий, т.е\n",
    "### $P=A_1\\cdot A_2\\cdot A_3=\\frac{5\\cdot 49\\cdot 24}{6\\cdot 59\\cdot 29}\\approx 0.57$"
   ]
  },
  {
   "cell_type": "markdown",
   "id": "c6871b85",
   "metadata": {},
   "source": [
    "Ответ на тертий вопрос может зависить от того, каким билетом студент вытянет билет, ответ на который не знает. Проверим нашу гипотезу. Если третьим, тогда вероятность $\\overline A_3 = \\frac{10}{58}=\\frac{5}{29}$, тогда:\n",
    "### $P_1=A_1\\cdot A_2\\cdot \\overline A_3=\\frac{5\\cdot 49\\cdot 5}{6\\cdot 59\\cdot 29}\\approx 0.12$"
   ]
  },
  {
   "cell_type": "markdown",
   "id": "2fb34f97",
   "metadata": {},
   "source": [
    "Если незнакомый билет студент вытянет первым, тогда $\\overline A_1=\\frac{1}{6}$; $A_2=\\frac{50}{59}$; $A_3=\\frac{49}{58}$, тогда:\n",
    "### $P_2=\\overline A_1\\cdot A_2\\cdot A_3=\\frac{1\\cdot 50\\cdot 49}{6\\cdot 59\\cdot 58}\\approx 0.12$"
   ]
  },
  {
   "cell_type": "markdown",
   "id": "3c92636d",
   "metadata": {},
   "source": [
    "Если незнакомы билет попадётся во вторую очередь, тогда $A_1=\\frac{5}{6}$; $\\overline A_2=\\frac{10}{59}$; $A_3=\\frac{49}{58}$, тогда:\n",
    "### $P_3=\\frac{5\\cdot 10\\cdot 49}{6\\cdot59\\cdot58}\\approx 0.12$"
   ]
  },
  {
   "cell_type": "markdown",
   "id": "a5478e1b",
   "metadata": {},
   "source": [
    "Таким образом наша гипотеза не подтвердилась и вероятность выпадения одного незнакомого билета из трех составляет около 12%"
   ]
  },
  {
   "cell_type": "markdown",
   "id": "4c7ab79b",
   "metadata": {},
   "source": [
    "Ответ: У студента около 57% шанс на то, что все билеты будут ему знакомы,  и около 12%, что попадется один неизвестный билет"
   ]
  },
  {
   "cell_type": "markdown",
   "id": "b0345ea6",
   "metadata": {},
   "source": [
    "### Задача 4\n",
    "\n",
    "Допустим, имеется некоторая очень редкая болезнь (поражает 0.1% населения). Вы приходите к врачу, вам делают тест на эту болезнь, и тест оказывается положительным. Врач говорит вам, что этот тест верно выявляет 99% больных этой болезнью и всего лишь в 1% случаев даёт ложный положительный ответ.\n",
    "\n",
    "Вопрос: какова вероятность, что вы действительно больны ей?\n",
    "\n",
    "Подсказка: используйте формулу Байеса с раскрытием знаменателя с помощью формулы полной вероятности."
   ]
  },
  {
   "cell_type": "markdown",
   "id": "9a140a6d",
   "metadata": {},
   "source": [
    "$$P(B\\:|\\:A) = \\frac{P(A\\:|\\:B) \\cdot P(B)}{P(A)}$$"
   ]
  },
  {
   "cell_type": "markdown",
   "id": "20704aa2",
   "metadata": {},
   "source": [
    "Пусть событие $B_1$ означает, что я болен и равно 0.001, а событие $B_2$ означает, что я не болен и равно 0.999. Событие А будет означать положительный тест, который верен в 99% случаев.  \n",
    "Тогда вероятность того, что я болен при условии, что тест верный будет расчитываться по формуле:\n",
    "### $P(B_1|A)=\\frac{P(A|B_1)\\cdot P(B_1)}{P(A)}$"
   ]
  },
  {
   "cell_type": "markdown",
   "id": "4b125265",
   "metadata": {},
   "source": [
    "Кроме того нам известно, что:\n",
    "### $P(A|B_1)=0.99$\n",
    "### $P(A|B_2)=0.01$\n",
    "Тогда:\n",
    "### $P(A)=B_1\\cdot(A|B_1)+B_2\\cdot(A|B_2)=0.001\\cdot0.99+0.999\\cdot0.01 =0.01098$"
   ]
  },
  {
   "cell_type": "markdown",
   "id": "36fcfa59",
   "metadata": {},
   "source": [
    "Получается:\n",
    "### $P(B_1|A)=\\frac{0.99\\cdot0.001}{0.01098}\\approx0,09$"
   ]
  },
  {
   "cell_type": "markdown",
   "id": "2144f3ea",
   "metadata": {},
   "source": [
    "Ответ: Вероятность того, что я имею заболевание, которым болеют 1 человек из тысячи, при условии что тест дал положительный результат равна примерно 9%."
   ]
  },
  {
   "cell_type": "code",
   "execution_count": null,
   "id": "55a30558",
   "metadata": {},
   "outputs": [],
   "source": []
  }
 ],
 "metadata": {
  "kernelspec": {
   "display_name": "Python 3",
   "language": "python",
   "name": "python3"
  },
  "language_info": {
   "codemirror_mode": {
    "name": "ipython",
    "version": 3
   },
   "file_extension": ".py",
   "mimetype": "text/x-python",
   "name": "python",
   "nbconvert_exporter": "python",
   "pygments_lexer": "ipython3",
   "version": "3.8.8"
  }
 },
 "nbformat": 4,
 "nbformat_minor": 5
}
