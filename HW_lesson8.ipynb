{
 "cells": [
  {
   "cell_type": "markdown",
   "id": "2ab48940",
   "metadata": {},
   "source": [
    "# Видеокурс по теории вероятностей и математической статистике\n",
    "# GeekBrains\n",
    "## ДЗ Урока 8\n",
    "## Казанцев Виталий"
   ]
  },
  {
   "cell_type": "markdown",
   "id": "9181d0e5",
   "metadata": {},
   "source": [
    "__Задача 1__  \n",
    "Используя данные о хоккеистах (скачать можно здесь), проверьте, является ли среди хоккеистов из Финляндии, Норвегии и Дании значимым отличие: а) роста, б) BMI."
   ]
  },
  {
   "cell_type": "code",
   "execution_count": 1,
   "id": "6acf233a",
   "metadata": {},
   "outputs": [],
   "source": [
    "import numpy as np\n",
    "import pandas as pd\n",
    "from scipy import stats"
   ]
  },
  {
   "cell_type": "code",
   "execution_count": 2,
   "id": "448fbe6f",
   "metadata": {},
   "outputs": [],
   "source": [
    "df = pd.read_csv('./data/hockey_players.csv', encoding='ISO-8859-1')"
   ]
  },
  {
   "cell_type": "code",
   "execution_count": 3,
   "id": "4997e125",
   "metadata": {},
   "outputs": [
    {
     "data": {
      "text/html": [
       "<div>\n",
       "<style scoped>\n",
       "    .dataframe tbody tr th:only-of-type {\n",
       "        vertical-align: middle;\n",
       "    }\n",
       "\n",
       "    .dataframe tbody tr th {\n",
       "        vertical-align: top;\n",
       "    }\n",
       "\n",
       "    .dataframe thead th {\n",
       "        text-align: right;\n",
       "    }\n",
       "</style>\n",
       "<table border=\"1\" class=\"dataframe\">\n",
       "  <thead>\n",
       "    <tr style=\"text-align: right;\">\n",
       "      <th></th>\n",
       "      <th>year</th>\n",
       "      <th>country</th>\n",
       "      <th>no</th>\n",
       "      <th>name</th>\n",
       "      <th>position</th>\n",
       "      <th>side</th>\n",
       "      <th>height</th>\n",
       "      <th>weight</th>\n",
       "      <th>birth</th>\n",
       "      <th>club</th>\n",
       "      <th>age</th>\n",
       "      <th>cohort</th>\n",
       "      <th>bmi</th>\n",
       "    </tr>\n",
       "  </thead>\n",
       "  <tbody>\n",
       "    <tr>\n",
       "      <th>6287</th>\n",
       "      <td>2016</td>\n",
       "      <td>USA</td>\n",
       "      <td>71</td>\n",
       "      <td>foligno nick</td>\n",
       "      <td>F</td>\n",
       "      <td>L</td>\n",
       "      <td>183</td>\n",
       "      <td>95.0</td>\n",
       "      <td>1987-10-31</td>\n",
       "      <td>columbus blue jackets</td>\n",
       "      <td>28.501027</td>\n",
       "      <td>1987</td>\n",
       "      <td>28.367524</td>\n",
       "    </tr>\n",
       "    <tr>\n",
       "      <th>6288</th>\n",
       "      <td>2016</td>\n",
       "      <td>USA</td>\n",
       "      <td>72</td>\n",
       "      <td>vatrano frank</td>\n",
       "      <td>F</td>\n",
       "      <td>L</td>\n",
       "      <td>178</td>\n",
       "      <td>98.0</td>\n",
       "      <td>1994-03-14</td>\n",
       "      <td>boston bruins</td>\n",
       "      <td>22.132786</td>\n",
       "      <td>1994</td>\n",
       "      <td>30.930438</td>\n",
       "    </tr>\n",
       "    <tr>\n",
       "      <th>6289</th>\n",
       "      <td>2016</td>\n",
       "      <td>USA</td>\n",
       "      <td>1</td>\n",
       "      <td>kinkaid keith</td>\n",
       "      <td>G</td>\n",
       "      <td>L</td>\n",
       "      <td>191</td>\n",
       "      <td>88.0</td>\n",
       "      <td>1989-07-04</td>\n",
       "      <td>new jersey devils</td>\n",
       "      <td>26.825462</td>\n",
       "      <td>1989</td>\n",
       "      <td>24.122146</td>\n",
       "    </tr>\n",
       "    <tr>\n",
       "      <th>6290</th>\n",
       "      <td>2016</td>\n",
       "      <td>USA</td>\n",
       "      <td>30</td>\n",
       "      <td>condon mike</td>\n",
       "      <td>G</td>\n",
       "      <td>L</td>\n",
       "      <td>188</td>\n",
       "      <td>89.0</td>\n",
       "      <td>1990-04-27</td>\n",
       "      <td>montreal canadiens</td>\n",
       "      <td>26.012320</td>\n",
       "      <td>1990</td>\n",
       "      <td>25.181077</td>\n",
       "    </tr>\n",
       "    <tr>\n",
       "      <th>6291</th>\n",
       "      <td>2016</td>\n",
       "      <td>USA</td>\n",
       "      <td>31</td>\n",
       "      <td>demko thatcher</td>\n",
       "      <td>G</td>\n",
       "      <td>L</td>\n",
       "      <td>193</td>\n",
       "      <td>95.0</td>\n",
       "      <td>1995-12-08</td>\n",
       "      <td>boston college</td>\n",
       "      <td>20.396988</td>\n",
       "      <td>1995</td>\n",
       "      <td>25.504040</td>\n",
       "    </tr>\n",
       "  </tbody>\n",
       "</table>\n",
       "</div>"
      ],
      "text/plain": [
       "      year country  no            name position side  height  weight  \\\n",
       "6287  2016     USA  71    foligno nick        F    L     183    95.0   \n",
       "6288  2016     USA  72   vatrano frank        F    L     178    98.0   \n",
       "6289  2016     USA   1   kinkaid keith        G    L     191    88.0   \n",
       "6290  2016     USA  30     condon mike        G    L     188    89.0   \n",
       "6291  2016     USA  31  demko thatcher        G    L     193    95.0   \n",
       "\n",
       "           birth                   club        age  cohort        bmi  \n",
       "6287  1987-10-31  columbus blue jackets  28.501027    1987  28.367524  \n",
       "6288  1994-03-14          boston bruins  22.132786    1994  30.930438  \n",
       "6289  1989-07-04      new jersey devils  26.825462    1989  24.122146  \n",
       "6290  1990-04-27     montreal canadiens  26.012320    1990  25.181077  \n",
       "6291  1995-12-08         boston college  20.396988    1995  25.504040  "
      ]
     },
     "execution_count": 3,
     "metadata": {},
     "output_type": "execute_result"
    }
   ],
   "source": [
    "df.tail()"
   ]
  },
  {
   "cell_type": "code",
   "execution_count": 4,
   "id": "078724ff",
   "metadata": {},
   "outputs": [],
   "source": [
    "def anova(*ys: np.ndarray) -> float:\n",
    "    \"\"\"Функция возвращает значение F-статистики\n",
    "    для дисперсионного анализа.\n",
    "    \"\"\"\n",
    "    \n",
    "    y = np.concatenate(ys)\n",
    "\n",
    "    ss_b = sum((yi.mean() - y.mean()) ** 2 * yi.size for yi in ys)\n",
    "    ss_w = sum(((yi - yi.mean()) ** 2).sum() for yi in ys)\n",
    "    \n",
    "    sigma_b = ss_b / (len(ys) - 1)\n",
    "    sigma_w = ss_w / (y.size - len(ys))\n",
    "    \n",
    "    return sigma_b / sigma_w\n"
   ]
  },
  {
   "cell_type": "code",
   "execution_count": 5,
   "id": "54e18aca",
   "metadata": {},
   "outputs": [
    {
     "data": {
      "text/plain": [
       "array(['RUS', 'AUT', 'BLR', 'CAN', 'CZE', 'FIN', 'GER', 'ITA', 'JPN',\n",
       "       'LAT', 'NOR', 'SUI', 'SVK', 'SWE', 'UKR', 'USA', 'POL', 'SLO',\n",
       "       'DEN', 'FRA', 'KAZ', 'HUN'], dtype=object)"
      ]
     },
     "execution_count": 5,
     "metadata": {},
     "output_type": "execute_result"
    }
   ],
   "source": [
    "df['country'].unique()\n"
   ]
  },
  {
   "cell_type": "code",
   "execution_count": 6,
   "id": "f92883a5",
   "metadata": {},
   "outputs": [
    {
     "data": {
      "text/plain": [
       "['FIN', 'NOR', 'DEN']"
      ]
     },
     "execution_count": 6,
     "metadata": {},
     "output_type": "execute_result"
    }
   ],
   "source": [
    "countries = ['FIN', 'NOR', 'DEN']\n",
    "countries"
   ]
  },
  {
   "cell_type": "code",
   "execution_count": 7,
   "id": "0e8c5882",
   "metadata": {},
   "outputs": [
    {
     "data": {
      "text/plain": [
       "4.273207343917213"
      ]
     },
     "execution_count": 7,
     "metadata": {},
     "output_type": "execute_result"
    }
   ],
   "source": [
    "ys = [df.loc[df['country'] == country, 'height'] for country in countries]\n",
    "\n",
    "F = anova(*ys)\n",
    "F"
   ]
  },
  {
   "cell_type": "code",
   "execution_count": 8,
   "id": "26234f38",
   "metadata": {},
   "outputs": [
    {
     "data": {
      "text/plain": [
       "(2, 1023)"
      ]
     },
     "execution_count": 8,
     "metadata": {},
     "output_type": "execute_result"
    }
   ],
   "source": [
    "k = len(countries)\n",
    "n = sum(y.size for y in ys)\n",
    "\n",
    "k1 = k - 1\n",
    "k2 = n - k\n",
    "\n",
    "k1, k2"
   ]
  },
  {
   "cell_type": "code",
   "execution_count": 9,
   "id": "b8d9c6ed",
   "metadata": {},
   "outputs": [
    {
     "data": {
      "text/plain": [
       "3.0045220661840073"
      ]
     },
     "execution_count": 9,
     "metadata": {},
     "output_type": "execute_result"
    }
   ],
   "source": [
    "alpha = 0.05\n",
    "\n",
    "t = stats.f.ppf(1 - alpha, k1, k2)\n",
    "t"
   ]
  },
  {
   "cell_type": "markdown",
   "id": "6f14f81b",
   "metadata": {},
   "source": [
    "Критическая область $(3.0045, +\\infty)$"
   ]
  },
  {
   "cell_type": "markdown",
   "id": "7e0853a1",
   "metadata": {},
   "source": [
    "__Ответ__:  \n",
    "Поскольку статистика попала в критическую область, заключем, что между ростом хоккеистов выбранных стран есть отличия"
   ]
  },
  {
   "cell_type": "code",
   "execution_count": 10,
   "id": "2a9c38bb",
   "metadata": {},
   "outputs": [
    {
     "data": {
      "text/plain": [
       "36.05816727743814"
      ]
     },
     "execution_count": 10,
     "metadata": {},
     "output_type": "execute_result"
    }
   ],
   "source": [
    "bmi = [df.loc[df['country'] == country, 'bmi'] for country in countries]\n",
    "\n",
    "F = anova(*bmi)\n",
    "F\n"
   ]
  },
  {
   "cell_type": "markdown",
   "id": "6f6a6152",
   "metadata": {},
   "source": [
    "__Ответ:__  \n",
    "Поскольку статистика попала в критическую область, заключем, что между bmi хоккеистов выбранных стран есть отличия"
   ]
  }
 ],
 "metadata": {
  "kernelspec": {
   "display_name": "Python 3",
   "language": "python",
   "name": "python3"
  },
  "language_info": {
   "codemirror_mode": {
    "name": "ipython",
    "version": 3
   },
   "file_extension": ".py",
   "mimetype": "text/x-python",
   "name": "python",
   "nbconvert_exporter": "python",
   "pygments_lexer": "ipython3",
   "version": "3.8.8"
  }
 },
 "nbformat": 4,
 "nbformat_minor": 5
}
