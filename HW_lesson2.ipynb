{
 "cells": [
  {
   "cell_type": "markdown",
   "id": "7c9e70fc",
   "metadata": {},
   "source": [
    "# Видеокурс по теории вероятностей и математической статистике\n",
    "# GeekBrains\n",
    "### ДЗ Урока 2\n",
    "### Казанцев Виталий"
   ]
  },
  {
   "cell_type": "markdown",
   "id": "ea221d2d",
   "metadata": {},
   "source": [
    "### Задачи 1 и 2\n",
    "Контрольная работа состоит из пяти вопросов. На каждый вопрос приведено четыре варианта ответа, один из которых правильный. Случайная величина X задаёт число правильных ответов при простом угадывании. Найдите математическое ожидание данной случайной величины. Найдите дисперсию случайной величины X.\n",
    "\n",
    "Подсказка: постройте закон распределения случайной величины X."
   ]
  },
  {
   "cell_type": "markdown",
   "id": "64335f6d",
   "metadata": {},
   "source": [
    "### Решение.\n",
    "Получается что мы имеем пять независимых испытаний с вероятностью угадывания (событие $A$) равной $\\frac{1}{4}$  \n",
    "Тогда вероятность, что событие $A$ не наступит ни разу, т.е. $X=0$  расчитывается следующим образом:\n",
    "### $P(X=0)=C_{n}^{k}p^{k}(1-p)^{n-k}=\\frac{5!}{0!(5-0)!}\\cdot(\\frac{1}{4})^{0}\\cdot(\\frac{3}{4})^{5-0}=\\frac{243}{1024}$"
   ]
  },
  {
   "cell_type": "markdown",
   "id": "ff552f10",
   "metadata": {},
   "source": [
    "Вероятность угадать один раз"
   ]
  },
  {
   "cell_type": "markdown",
   "id": "7965dbd8",
   "metadata": {},
   "source": [
    "### $P(X=1)=\\frac{5!}{1!\\cdot4!}\\cdot(\\frac{1}{4})^{1}\\cdot(\\frac{3}{4})^4=\\frac{405}{1024}$"
   ]
  },
  {
   "cell_type": "markdown",
   "id": "cf22f6df",
   "metadata": {},
   "source": [
    "Два раза и т.д. до пяти:"
   ]
  },
  {
   "cell_type": "markdown",
   "id": "c26a5779",
   "metadata": {},
   "source": [
    "### $P(X=2)=\\frac{5!}{2!\\cdot3!}\\cdot(\\frac{1}{4})^2\\cdot(\\frac{3}{4})^3=\\frac{135}{512}$"
   ]
  },
  {
   "cell_type": "markdown",
   "id": "d7052fa8",
   "metadata": {},
   "source": [
    "### $P(X=3)=\\frac{5!}{3!2!}\\cdot(\\frac{1}{4})^{3}\\cdot(\\frac{3}{4})^2=\\frac{45}{512}$"
   ]
  },
  {
   "cell_type": "markdown",
   "id": "790c7ce6",
   "metadata": {},
   "source": [
    "### $P(X=4)=\\frac{5!}{4!\\cdot1!}\\cdot(\\frac{1}{4})^{4}\\cdot(\\frac{3}{4})^1=\\frac{15}{1024}$"
   ]
  },
  {
   "cell_type": "markdown",
   "id": "63b7166b",
   "metadata": {},
   "source": [
    "### $P(X=5)=\\frac{5!}{5!\\cdot0!}\\cdot(\\frac{1}{4})^5\\cdot(\\frac{3}{4})^0=\\frac{1}{1024}$"
   ]
  },
  {
   "cell_type": "markdown",
   "id": "4d0d1d5d",
   "metadata": {},
   "source": [
    "\n",
    "<table border=\"3\">\n",
    "    <tr>\n",
    "        <th>$x$</th>\n",
    "        <td>$0$</td>\n",
    "        <td>$1$</td>\n",
    "        <td>$2$</td>\n",
    "        <td>$3$</td>\n",
    "        <td>$4$</td>\n",
    "        <td>$5$</td>\n",
    "    </tr>\n",
    "    <tr>\n",
    "        <th>$P(X = x)$</th>\n",
    "        <td>$\\frac{243}{1024}$</td>\n",
    "        <td>$\\frac{405}{1024}$</td>\n",
    "        <td>$\\frac{135}{512}$</td>\n",
    "        <td>$\\frac{45}{512}$</td>\n",
    "        <td>$\\frac{15}{1024}$</td>\n",
    "        <td>$\\frac{1}{1024}$</td>\n",
    "    </tr>\n",
    "</table>"
   ]
  },
  {
   "cell_type": "code",
   "execution_count": 1,
   "id": "6262c93c",
   "metadata": {},
   "outputs": [
    {
     "data": {
      "text/plain": [
       "array([0, 1, 2, 3, 4, 5])"
      ]
     },
     "execution_count": 1,
     "metadata": {},
     "output_type": "execute_result"
    }
   ],
   "source": [
    "import numpy as np\n",
    "x_values = np.arange(0,6)\n",
    "x_values"
   ]
  },
  {
   "cell_type": "code",
   "execution_count": 2,
   "id": "601489d2",
   "metadata": {},
   "outputs": [
    {
     "data": {
      "text/plain": [
       "array([0.23730469, 0.39550781, 0.26367188, 0.08789062, 0.01464844,\n",
       "       0.00097656])"
      ]
     },
     "execution_count": 2,
     "metadata": {},
     "output_type": "execute_result"
    }
   ],
   "source": [
    "x_probabilites = np.array([243, 405, 270, 90, 15, 1]) / 1024\n",
    "x_probabilites"
   ]
  },
  {
   "cell_type": "code",
   "execution_count": 3,
   "id": "2d687e90",
   "metadata": {},
   "outputs": [
    {
     "name": "stdout",
     "output_type": "stream",
     "text": [
      "1.25\n"
     ]
    }
   ],
   "source": [
    "m = (x_values * x_probabilites).sum()\n",
    "print(m)"
   ]
  },
  {
   "cell_type": "markdown",
   "id": "7af962a1",
   "metadata": {},
   "source": [
    "Или по другому, поскольку n=5, а p=1/4, то\n",
    "### $M(X)=5\\cdot 0.25=1.25$"
   ]
  },
  {
   "cell_type": "markdown",
   "id": "b7bcd405",
   "metadata": {},
   "source": [
    "Теперь найдем дисперсию величины $X$, которая определяется по формуле $D=M((X-M(X))^2)$  \n",
    "для этого сначала найдем квадтрат отклонения величины $X$"
   ]
  },
  {
   "cell_type": "code",
   "execution_count": 4,
   "id": "1cd55499",
   "metadata": {},
   "outputs": [
    {
     "data": {
      "text/plain": [
       "array([ 1.5625,  0.0625,  0.5625,  3.0625,  7.5625, 14.0625])"
      ]
     },
     "execution_count": 4,
     "metadata": {},
     "output_type": "execute_result"
    }
   ],
   "source": [
    "y_values = x_values - m\n",
    "y_values = y_values**2\n",
    "y_values"
   ]
  },
  {
   "cell_type": "markdown",
   "id": "3f314982",
   "metadata": {},
   "source": [
    "Теперь вычислим дисперсию"
   ]
  },
  {
   "cell_type": "code",
   "execution_count": 5,
   "id": "b4641897",
   "metadata": {},
   "outputs": [
    {
     "data": {
      "text/plain": [
       "0.9375"
      ]
     },
     "execution_count": 5,
     "metadata": {},
     "output_type": "execute_result"
    }
   ],
   "source": [
    "d = (y_values * x_probabilites).sum()\n",
    "d"
   ]
  },
  {
   "cell_type": "markdown",
   "id": "eb97637a",
   "metadata": {},
   "source": [
    "Также дисперсию можно было вычислить по формуле \n",
    "### $D(X)=np(1-p) = 1.25\\cdot0.75=0.9375$"
   ]
  },
  {
   "cell_type": "markdown",
   "id": "679414dd",
   "metadata": {},
   "source": [
    "### Ответ:\n",
    "Математическое ожидание равно 1.25  \n",
    "Дисперсия равна 0.9375"
   ]
  },
  {
   "cell_type": "markdown",
   "id": "17a854cd",
   "metadata": {},
   "source": [
    "### Задача 3\n",
    "Пользователь получает в среднем 10 писем со спамом на свой почтовый ящик за сутки. Найти число N, такое, что с вероятностью 0.95 пользователь получит не более N писем со спамом за текущий день."
   ]
  },
  {
   "cell_type": "markdown",
   "id": "84147e81",
   "metadata": {},
   "source": [
    "### Решение:\n",
    "В нашем случае распределение Пуассона принимает следующий вид\n",
    "### $P(X \\leq N) = \\displaystyle\\sum_{i = 0}^{N} \\dfrac{10^{i} e^{-10}}{i!}$  \n",
    "Необходимо подобрать такое $N$, при котором равенство будет равно примерно 0.95"
   ]
  },
  {
   "cell_type": "code",
   "execution_count": 6,
   "id": "86b03bd7",
   "metadata": {},
   "outputs": [],
   "source": [
    "def poisson_proba(k: int, lambda_: float) -> float:\n",
    "    \"\"\"Формула Пуассона.\n",
    "    \"\"\"\n",
    "    \n",
    "    return (lambda_ ** k) * (np.exp(-lambda_)) / np.math.factorial(k)"
   ]
  },
  {
   "cell_type": "code",
   "execution_count": 7,
   "id": "76b6c524",
   "metadata": {},
   "outputs": [],
   "source": [
    "lambda_ = 10"
   ]
  },
  {
   "cell_type": "code",
   "execution_count": 8,
   "id": "f0cdf16c",
   "metadata": {
    "scrolled": true
   },
   "outputs": [
    {
     "name": "stdout",
     "output_type": "stream",
     "text": [
      "15\n"
     ]
    }
   ],
   "source": [
    "j = 1    # счётчик\n",
    "pus = poisson_proba(k=j, lambda_=lambda_)    # веороятность при значении X=1\n",
    "while pus < 0.95:\n",
    "    # На каждой итерации сравниваем значение вероятности с искомым\n",
    "    j += 1\n",
    "    pus = sum(poisson_proba(k=i, lambda_=lambda_) for i in range(j))\n",
    "    \n",
    "print(j-1)"
   ]
  },
  {
   "cell_type": "code",
   "execution_count": 9,
   "id": "4acd4120",
   "metadata": {
    "scrolled": true
   },
   "outputs": [
    {
     "data": {
      "text/plain": [
       "0.9512595966960214"
      ]
     },
     "execution_count": 9,
     "metadata": {},
     "output_type": "execute_result"
    }
   ],
   "source": [
    "sum(poisson_proba(k=i, lambda_=lambda_) for i in range(16))"
   ]
  },
  {
   "cell_type": "markdown",
   "id": "8da8b601",
   "metadata": {},
   "source": [
    "### Ответ:\n",
    "С вероятностью в 95% пользователь получит не более 15 писем со спамом в день"
   ]
  },
  {
   "cell_type": "markdown",
   "id": "104fa524",
   "metadata": {},
   "source": [
    "### Задача 4\n",
    "Производятся выстрелы по мишени. Вероятность попадания в мишень при одном выстреле равна 0.01. Сколько выстрелов нужно сделать чтобы быть уверенным с вероятностью 0.9, что хотя бы 6 раз будет совершено попадание?\n",
    "\n",
    "Подсказка: 1) \"Вероятность попасть k раз при n выстрелах\" - на какое распределение это похоже? 2) А если нам нужна вероятность P(X >= k), а не P(X = k)? 3) Здесь предстоит немножко покодить."
   ]
  },
  {
   "cell_type": "markdown",
   "id": "9894acae",
   "metadata": {},
   "source": [
    "Это похоже на биномиальное расппределение $P(X = k) = C_n^k p^k (1 - p)^{n - k}$, при $k=6$ и $p=0.01$ получаем \n",
    "### $\\begin{cases}P(X=6)=0.9,\\\\P(X=6)=C_{n}^6\\cdot0.01^{6}\\cdot(1-0.01)^{n-6}\\end{cases}$ $\\Rightarrow\\frac{n!}{6!(n-6)!}\\cdot10^{-12}\\cdot0.99^{n-6}=0.9, n\\geq6$  \n",
    "Необходимо подобрать значение $n$\n",
    "Чтобы быть уверенным, что мы попали не менне 6 раз необходимо применить формулу $P(X\\geq6)=1-P(X<6)$, тогда"
   ]
  },
  {
   "cell_type": "code",
   "execution_count": 10,
   "id": "d0d275e1",
   "metadata": {},
   "outputs": [],
   "source": [
    "def probability_binominal(n, k, p):\n",
    "    c = np.math.factorial(n) / (np.math.factorial(k) * np.math.factorial(n - k))\n",
    "    pr = p**k\n",
    "    probability = c * pr * ((1 - p)**(n-k))\n",
    "    return probability"
   ]
  },
  {
   "cell_type": "code",
   "execution_count": 11,
   "id": "df5bd682",
   "metadata": {},
   "outputs": [
    {
     "name": "stdout",
     "output_type": "stream",
     "text": [
      "926\n"
     ]
    },
    {
     "data": {
      "text/plain": [
       "0.9003627121531355"
      ]
     },
     "execution_count": 11,
     "metadata": {},
     "output_type": "execute_result"
    }
   ],
   "source": [
    "n = 6\n",
    "bin_p = 0\n",
    "while bin_p < 0.9:\n",
    "    n += 1\n",
    "    bin_p = 1\n",
    "    for k in range(6):\n",
    "        bin_p -= probability_binominal(n=n, k=k, p=0.01)\n",
    "print(n)"
   ]
  },
  {
   "cell_type": "markdown",
   "id": "f001c951",
   "metadata": {},
   "source": [
    "### Ответ\n",
    "Чтобы при заданных условиях с вероятностью в 0.9 попасть в мишень не менее 6 раз, необходимо произвести около 926 выстрелов"
   ]
  }
 ],
 "metadata": {
  "kernelspec": {
   "display_name": "Python 3",
   "language": "python",
   "name": "python3"
  },
  "language_info": {
   "codemirror_mode": {
    "name": "ipython",
    "version": 3
   },
   "file_extension": ".py",
   "mimetype": "text/x-python",
   "name": "python",
   "nbconvert_exporter": "python",
   "pygments_lexer": "ipython3",
   "version": "3.8.8"
  }
 },
 "nbformat": 4,
 "nbformat_minor": 5
}
