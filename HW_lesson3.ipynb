{
 "cells": [
  {
   "cell_type": "markdown",
   "id": "3b0b0b35",
   "metadata": {},
   "source": [
    "# Видеокурс по теории вероятностей и математической статистике\n",
    "# GeekBrains\n",
    "### ДЗ Урока 3\n",
    "### Казанцев Виталий"
   ]
  },
  {
   "cell_type": "markdown",
   "id": "78014933",
   "metadata": {},
   "source": [
    "### Задача 1\n",
    "Даны значения зарплат из выборки выпускников:\n",
    "100, 80, 75, 77, 89, 33, 45, 25, 65, 17, 30, 230, 24, 57, 55, 70, 75, 65, 84, 90, 150\n",
    " \n",
    "Используя только встроенные питоновские функции и структуры данных (т.е. без библиотек numpy, pandas и др.), посчитайте (несмещённое) среднее квадратичное отклонение для данной выборки."
   ]
  },
  {
   "cell_type": "code",
   "execution_count": 1,
   "id": "25de182d",
   "metadata": {},
   "outputs": [
    {
     "data": {
      "text/plain": [
       "73.14285714285714"
      ]
     },
     "execution_count": 1,
     "metadata": {},
     "output_type": "execute_result"
    }
   ],
   "source": [
    "salary = [100, 80, 75, 77, 89, 33, 45, 25, 65, 17, 30, 230, 24, 57, 55, 70, 75, 65, 84, 90, 150]\n",
    "sum(salary) / len(salary)"
   ]
  },
  {
   "cell_type": "code",
   "execution_count": 2,
   "id": "92d89811",
   "metadata": {},
   "outputs": [],
   "source": [
    "def std_(lst: list):\n",
    "    mean_ = sum(lst) / len(lst)\n",
    "    d = 0\n",
    "    for el in lst:\n",
    "        d += (el - mean_)**2\n",
    "    d = d / (len(lst) - 1)\n",
    "    return d**(1/2)"
   ]
  },
  {
   "cell_type": "code",
   "execution_count": 3,
   "id": "ef118187",
   "metadata": {},
   "outputs": [
    {
     "data": {
      "text/plain": [
       "47.34795213553139"
      ]
     },
     "execution_count": 3,
     "metadata": {},
     "output_type": "execute_result"
    }
   ],
   "source": [
    "std_(salary)"
   ]
  },
  {
   "cell_type": "markdown",
   "id": "bcdae8bd",
   "metadata": {},
   "source": [
    "Проверим решение средствами numpy"
   ]
  },
  {
   "cell_type": "code",
   "execution_count": 4,
   "id": "2f65ee1b",
   "metadata": {},
   "outputs": [
    {
     "data": {
      "text/plain": [
       "47.347952135531386"
      ]
     },
     "execution_count": 4,
     "metadata": {},
     "output_type": "execute_result"
    }
   ],
   "source": [
    "import numpy as np\n",
    "\n",
    "sal = np.array(salary)\n",
    "sal.std(ddof=1)"
   ]
  },
  {
   "cell_type": "markdown",
   "id": "03787418",
   "metadata": {},
   "source": [
    "### Ответ:\n",
    "Среднее квадратичное представленной выборки равно примероно 47"
   ]
  },
  {
   "cell_type": "markdown",
   "id": "3adc4ab2",
   "metadata": {},
   "source": [
    "### Задача 2\n",
    "Найдите число выбросов в выборке из задачи 1. Для определения выбросов используйте методику как при построении “усов” в boxplot, однако, как и в задаче 1, пользоваться можно только встроенными функциями и структурами данных.\n"
   ]
  },
  {
   "cell_type": "code",
   "execution_count": 5,
   "id": "9f1f966d",
   "metadata": {},
   "outputs": [
    {
     "data": {
      "text/plain": [
       "1"
      ]
     },
     "execution_count": 5,
     "metadata": {},
     "output_type": "execute_result"
    }
   ],
   "source": [
    "len(salary) % 4"
   ]
  },
  {
   "cell_type": "markdown",
   "id": "78d039d1",
   "metadata": {},
   "source": [
    "На 4 не делится значит, значит"
   ]
  },
  {
   "cell_type": "code",
   "execution_count": 6,
   "id": "6a4f2e2b",
   "metadata": {},
   "outputs": [
    {
     "name": "stdout",
     "output_type": "stream",
     "text": [
      "[17, 24, 25, 30, 33, 45, 55, 57, 65, 65, 70, 75, 75, 77, 80, 84, 89, 90, 100, 150, 230]\n"
     ]
    },
    {
     "data": {
      "text/plain": [
       "(45, 84, 39)"
      ]
     },
     "execution_count": 6,
     "metadata": {},
     "output_type": "execute_result"
    }
   ],
   "source": [
    "salary = sorted(salary)\n",
    "print(salary)\n",
    "q1 = salary[len(salary) // 4]\n",
    "q3 = salary[3 * len(salary) // 4]\n",
    "iqr = q3 - q1\n",
    "q1, q3, iqr"
   ]
  },
  {
   "cell_type": "code",
   "execution_count": 7,
   "id": "f0efb192",
   "metadata": {},
   "outputs": [
    {
     "data": {
      "text/plain": [
       "[-13.5, 142.5]"
      ]
     },
     "execution_count": 7,
     "metadata": {},
     "output_type": "execute_result"
    }
   ],
   "source": [
    "boders = [q1 - 1.5 * iqr, q3 + 1.5 * iqr]\n",
    "boders"
   ]
  },
  {
   "cell_type": "code",
   "execution_count": 8,
   "id": "a9e9fdf4",
   "metadata": {},
   "outputs": [
    {
     "data": {
      "text/plain": [
       "2"
      ]
     },
     "execution_count": 8,
     "metadata": {},
     "output_type": "execute_result"
    }
   ],
   "source": [
    "blowout =  []\n",
    "for el in salary:\n",
    "    if el < boders[0] or el > boders[1]:\n",
    "        blowout.append(el)\n",
    "        \n",
    "len(blowout)"
   ]
  },
  {
   "cell_type": "markdown",
   "id": "7e7a3cf3",
   "metadata": {},
   "source": [
    "Проверим средствами matplotlib"
   ]
  },
  {
   "cell_type": "code",
   "execution_count": 9,
   "id": "243329c7",
   "metadata": {
    "scrolled": false
   },
   "outputs": [
    {
     "data": {
      "image/svg+xml": [
       "<?xml version=\"1.0\" encoding=\"utf-8\" standalone=\"no\"?>\n",
       "<!DOCTYPE svg PUBLIC \"-//W3C//DTD SVG 1.1//EN\"\n",
       "  \"http://www.w3.org/Graphics/SVG/1.1/DTD/svg11.dtd\">\n",
       "<svg height=\"280.512pt\" version=\"1.1\" viewBox=\"0 0 405.024687 280.512\" width=\"405.024687pt\" xmlns=\"http://www.w3.org/2000/svg\" xmlns:xlink=\"http://www.w3.org/1999/xlink\">\n",
       " <metadata>\n",
       "  <rdf:RDF xmlns:cc=\"http://creativecommons.org/ns#\" xmlns:dc=\"http://purl.org/dc/elements/1.1/\" xmlns:rdf=\"http://www.w3.org/1999/02/22-rdf-syntax-ns#\">\n",
       "   <cc:Work>\n",
       "    <dc:type rdf:resource=\"http://purl.org/dc/dcmitype/StillImage\"/>\n",
       "    <dc:date>2022-02-09T17:45:21.470550</dc:date>\n",
       "    <dc:format>image/svg+xml</dc:format>\n",
       "    <dc:creator>\n",
       "     <cc:Agent>\n",
       "      <dc:title>Matplotlib v3.4.2, https://matplotlib.org/</dc:title>\n",
       "     </cc:Agent>\n",
       "    </dc:creator>\n",
       "   </cc:Work>\n",
       "  </rdf:RDF>\n",
       " </metadata>\n",
       " <defs>\n",
       "  <style type=\"text/css\">*{stroke-linecap:butt;stroke-linejoin:round;}</style>\n",
       " </defs>\n",
       " <g id=\"figure_1\">\n",
       "  <g id=\"patch_1\">\n",
       "   <path d=\"M 0 280.512 \n",
       "L 405.024687 280.512 \n",
       "L 405.024687 0 \n",
       "L 0 0 \n",
       "z\n",
       "\" style=\"fill:#ffffff;\"/>\n",
       "  </g>\n",
       "  <g id=\"axes_1\">\n",
       "   <g id=\"patch_2\">\n",
       "    <path d=\"M 40.704688 273.312 \n",
       "L 397.824687 273.312 \n",
       "L 397.824687 7.2 \n",
       "L 40.704688 7.2 \n",
       "z\n",
       "\" style=\"fill:#ffffff;\"/>\n",
       "   </g>\n",
       "   <g id=\"matplotlib.axis_1\">\n",
       "    <g id=\"xtick_1\">\n",
       "     <g id=\"line2d_1\"/>\n",
       "    </g>\n",
       "   </g>\n",
       "   <g id=\"matplotlib.axis_2\">\n",
       "    <g id=\"ytick_1\">\n",
       "     <g id=\"line2d_2\">\n",
       "      <path clip-path=\"url(#pacd603c61a)\" d=\"M 40.704688 223.735437 \n",
       "L 397.824687 223.735437 \n",
       "\" style=\"fill:none;stroke:#cccccc;stroke-linecap:round;stroke-width:0.8;\"/>\n",
       "     </g>\n",
       "     <g id=\"line2d_3\"/>\n",
       "     <g id=\"text_1\">\n",
       "      <!-- 50 -->\n",
       "      <g style=\"fill:#262626;\" transform=\"translate(26.082813 227.358874)scale(0.1 -0.1)\">\n",
       "       <defs>\n",
       "        <path d=\"M 3291 1434 \n",
       "Q 3291 738 2877 337 \n",
       "Q 2463 -63 1728 -63 \n",
       "Q 1113 -63 734 206 \n",
       "Q 356 475 256 984 \n",
       "L 825 1050 \n",
       "Q 1003 397 1741 397 \n",
       "Q 2194 397 2450 670 \n",
       "Q 2706 944 2706 1422 \n",
       "Q 2706 1838 2448 2094 \n",
       "Q 2191 2350 1753 2350 \n",
       "Q 1525 2350 1328 2278 \n",
       "Q 1131 2206 934 2034 \n",
       "L 384 2034 \n",
       "L 531 4403 \n",
       "L 3034 4403 \n",
       "L 3034 3925 \n",
       "L 1044 3925 \n",
       "L 959 2528 \n",
       "Q 1325 2809 1869 2809 \n",
       "Q 2519 2809 2905 2428 \n",
       "Q 3291 2047 3291 1434 \n",
       "z\n",
       "\" id=\"LiberationSans-35\" transform=\"scale(0.015625)\"/>\n",
       "        <path d=\"M 3309 2203 \n",
       "Q 3309 1100 2920 518 \n",
       "Q 2531 -63 1772 -63 \n",
       "Q 1013 -63 631 515 \n",
       "Q 250 1094 250 2203 \n",
       "Q 250 3338 620 3903 \n",
       "Q 991 4469 1791 4469 \n",
       "Q 2569 4469 2939 3897 \n",
       "Q 3309 3325 3309 2203 \n",
       "z\n",
       "M 2738 2203 \n",
       "Q 2738 3156 2517 3584 \n",
       "Q 2297 4013 1791 4013 \n",
       "Q 1272 4013 1045 3591 \n",
       "Q 819 3169 819 2203 \n",
       "Q 819 1266 1048 831 \n",
       "Q 1278 397 1778 397 \n",
       "Q 2275 397 2506 840 \n",
       "Q 2738 1284 2738 2203 \n",
       "z\n",
       "\" id=\"LiberationSans-30\" transform=\"scale(0.015625)\"/>\n",
       "       </defs>\n",
       "       <use xlink:href=\"#LiberationSans-35\"/>\n",
       "       <use x=\"55.615234\" xlink:href=\"#LiberationSans-30\"/>\n",
       "      </g>\n",
       "     </g>\n",
       "    </g>\n",
       "    <g id=\"ytick_2\">\n",
       "     <g id=\"line2d_4\">\n",
       "      <path clip-path=\"url(#pacd603c61a)\" d=\"M 40.704688 166.946704 \n",
       "L 397.824687 166.946704 \n",
       "\" style=\"fill:none;stroke:#cccccc;stroke-linecap:round;stroke-width:0.8;\"/>\n",
       "     </g>\n",
       "     <g id=\"line2d_5\"/>\n",
       "     <g id=\"text_2\">\n",
       "      <!-- 100 -->\n",
       "      <g style=\"fill:#262626;\" transform=\"translate(20.521875 170.570142)scale(0.1 -0.1)\">\n",
       "       <defs>\n",
       "        <path d=\"M 488 0 \n",
       "L 488 478 \n",
       "L 1609 478 \n",
       "L 1609 3866 \n",
       "L 616 3156 \n",
       "L 616 3688 \n",
       "L 1656 4403 \n",
       "L 2175 4403 \n",
       "L 2175 478 \n",
       "L 3247 478 \n",
       "L 3247 0 \n",
       "L 488 0 \n",
       "z\n",
       "\" id=\"LiberationSans-31\" transform=\"scale(0.015625)\"/>\n",
       "       </defs>\n",
       "       <use xlink:href=\"#LiberationSans-31\"/>\n",
       "       <use x=\"55.615234\" xlink:href=\"#LiberationSans-30\"/>\n",
       "       <use x=\"111.230469\" xlink:href=\"#LiberationSans-30\"/>\n",
       "      </g>\n",
       "     </g>\n",
       "    </g>\n",
       "    <g id=\"ytick_3\">\n",
       "     <g id=\"line2d_6\">\n",
       "      <path clip-path=\"url(#pacd603c61a)\" d=\"M 40.704688 110.157972 \n",
       "L 397.824687 110.157972 \n",
       "\" style=\"fill:none;stroke:#cccccc;stroke-linecap:round;stroke-width:0.8;\"/>\n",
       "     </g>\n",
       "     <g id=\"line2d_7\"/>\n",
       "     <g id=\"text_3\">\n",
       "      <!-- 150 -->\n",
       "      <g style=\"fill:#262626;\" transform=\"translate(20.521875 113.781409)scale(0.1 -0.1)\">\n",
       "       <use xlink:href=\"#LiberationSans-31\"/>\n",
       "       <use x=\"55.615234\" xlink:href=\"#LiberationSans-35\"/>\n",
       "       <use x=\"111.230469\" xlink:href=\"#LiberationSans-30\"/>\n",
       "      </g>\n",
       "     </g>\n",
       "    </g>\n",
       "    <g id=\"ytick_4\">\n",
       "     <g id=\"line2d_8\">\n",
       "      <path clip-path=\"url(#pacd603c61a)\" d=\"M 40.704688 53.369239 \n",
       "L 397.824687 53.369239 \n",
       "\" style=\"fill:none;stroke:#cccccc;stroke-linecap:round;stroke-width:0.8;\"/>\n",
       "     </g>\n",
       "     <g id=\"line2d_9\"/>\n",
       "     <g id=\"text_4\">\n",
       "      <!-- 200 -->\n",
       "      <g style=\"fill:#262626;\" transform=\"translate(20.521875 56.992677)scale(0.1 -0.1)\">\n",
       "       <defs>\n",
       "        <path d=\"M 322 0 \n",
       "L 322 397 \n",
       "Q 481 763 711 1042 \n",
       "Q 941 1322 1194 1548 \n",
       "Q 1447 1775 1695 1969 \n",
       "Q 1944 2163 2144 2356 \n",
       "Q 2344 2550 2467 2762 \n",
       "Q 2591 2975 2591 3244 \n",
       "Q 2591 3606 2378 3806 \n",
       "Q 2166 4006 1788 4006 \n",
       "Q 1428 4006 1195 3811 \n",
       "Q 963 3616 922 3263 \n",
       "L 347 3316 \n",
       "Q 409 3844 795 4156 \n",
       "Q 1181 4469 1788 4469 \n",
       "Q 2453 4469 2811 4155 \n",
       "Q 3169 3841 3169 3263 \n",
       "Q 3169 3006 3051 2753 \n",
       "Q 2934 2500 2703 2247 \n",
       "Q 2472 1994 1819 1463 \n",
       "Q 1459 1169 1246 933 \n",
       "Q 1034 697 941 478 \n",
       "L 3238 478 \n",
       "L 3238 0 \n",
       "L 322 0 \n",
       "z\n",
       "\" id=\"LiberationSans-32\" transform=\"scale(0.015625)\"/>\n",
       "       </defs>\n",
       "       <use xlink:href=\"#LiberationSans-32\"/>\n",
       "       <use x=\"55.615234\" xlink:href=\"#LiberationSans-30\"/>\n",
       "       <use x=\"111.230469\" xlink:href=\"#LiberationSans-30\"/>\n",
       "      </g>\n",
       "     </g>\n",
       "    </g>\n",
       "    <g id=\"text_5\">\n",
       "     <!-- salary -->\n",
       "     <g style=\"fill:#262626;\" transform=\"translate(14.446875 153.592719)rotate(-90)scale(0.1 -0.1)\">\n",
       "      <defs>\n",
       "       <path d=\"M 2969 934 \n",
       "Q 2969 456 2608 196 \n",
       "Q 2247 -63 1597 -63 \n",
       "Q 966 -63 623 145 \n",
       "Q 281 353 178 794 \n",
       "L 675 891 \n",
       "Q 747 619 972 492 \n",
       "Q 1197 366 1597 366 \n",
       "Q 2025 366 2223 497 \n",
       "Q 2422 628 2422 891 \n",
       "Q 2422 1091 2284 1216 \n",
       "Q 2147 1341 1841 1422 \n",
       "L 1438 1528 \n",
       "Q 953 1653 748 1773 \n",
       "Q 544 1894 428 2066 \n",
       "Q 313 2238 313 2488 \n",
       "Q 313 2950 642 3192 \n",
       "Q 972 3434 1603 3434 \n",
       "Q 2163 3434 2492 3237 \n",
       "Q 2822 3041 2909 2606 \n",
       "L 2403 2544 \n",
       "Q 2356 2769 2151 2889 \n",
       "Q 1947 3009 1603 3009 \n",
       "Q 1222 3009 1040 2893 \n",
       "Q 859 2778 859 2544 \n",
       "Q 859 2400 934 2306 \n",
       "Q 1009 2213 1156 2147 \n",
       "Q 1303 2081 1775 1966 \n",
       "Q 2222 1853 2419 1758 \n",
       "Q 2616 1663 2730 1547 \n",
       "Q 2844 1431 2906 1279 \n",
       "Q 2969 1128 2969 934 \n",
       "z\n",
       "\" id=\"LiberationSans-73\" transform=\"scale(0.015625)\"/>\n",
       "       <path d=\"M 1294 -63 \n",
       "Q 784 -63 528 206 \n",
       "Q 272 475 272 944 \n",
       "Q 272 1469 617 1750 \n",
       "Q 963 2031 1731 2050 \n",
       "L 2491 2063 \n",
       "L 2491 2247 \n",
       "Q 2491 2659 2316 2837 \n",
       "Q 2141 3016 1766 3016 \n",
       "Q 1388 3016 1216 2887 \n",
       "Q 1044 2759 1009 2478 \n",
       "L 422 2531 \n",
       "Q 566 3444 1778 3444 \n",
       "Q 2416 3444 2737 3151 \n",
       "Q 3059 2859 3059 2306 \n",
       "L 3059 850 \n",
       "Q 3059 600 3125 473 \n",
       "Q 3191 347 3375 347 \n",
       "Q 3456 347 3559 369 \n",
       "L 3559 19 \n",
       "Q 3347 -31 3125 -31 \n",
       "Q 2813 -31 2670 133 \n",
       "Q 2528 297 2509 647 \n",
       "L 2491 647 \n",
       "Q 2275 259 1989 98 \n",
       "Q 1703 -63 1294 -63 \n",
       "z\n",
       "M 1422 359 \n",
       "Q 1731 359 1972 500 \n",
       "Q 2213 641 2352 886 \n",
       "Q 2491 1131 2491 1391 \n",
       "L 2491 1669 \n",
       "L 1875 1656 \n",
       "Q 1478 1650 1273 1575 \n",
       "Q 1069 1500 959 1344 \n",
       "Q 850 1188 850 934 \n",
       "Q 850 659 998 509 \n",
       "Q 1147 359 1422 359 \n",
       "z\n",
       "\" id=\"LiberationSans-61\" transform=\"scale(0.015625)\"/>\n",
       "       <path d=\"M 431 0 \n",
       "L 431 4638 \n",
       "L 994 4638 \n",
       "L 994 0 \n",
       "L 431 0 \n",
       "z\n",
       "\" id=\"LiberationSans-6c\" transform=\"scale(0.015625)\"/>\n",
       "       <path d=\"M 444 0 \n",
       "L 444 2594 \n",
       "Q 444 2950 425 3381 \n",
       "L 956 3381 \n",
       "Q 981 2806 981 2691 \n",
       "L 994 2691 \n",
       "Q 1128 3125 1303 3284 \n",
       "Q 1478 3444 1797 3444 \n",
       "Q 1909 3444 2025 3413 \n",
       "L 2025 2897 \n",
       "Q 1913 2928 1725 2928 \n",
       "Q 1375 2928 1190 2626 \n",
       "Q 1006 2325 1006 1763 \n",
       "L 1006 0 \n",
       "L 444 0 \n",
       "z\n",
       "\" id=\"LiberationSans-72\" transform=\"scale(0.015625)\"/>\n",
       "       <path d=\"M 597 -1328 \n",
       "Q 366 -1328 209 -1294 \n",
       "L 209 -872 \n",
       "Q 328 -891 472 -891 \n",
       "Q 997 -891 1303 -119 \n",
       "L 1356 16 \n",
       "L 16 3381 \n",
       "L 616 3381 \n",
       "L 1328 1513 \n",
       "Q 1344 1469 1366 1408 \n",
       "Q 1388 1347 1506 1000 \n",
       "Q 1625 653 1634 613 \n",
       "L 1853 1228 \n",
       "L 2594 3381 \n",
       "L 3188 3381 \n",
       "L 1888 0 \n",
       "Q 1678 -541 1497 -805 \n",
       "Q 1316 -1069 1095 -1198 \n",
       "Q 875 -1328 597 -1328 \n",
       "z\n",
       "\" id=\"LiberationSans-79\" transform=\"scale(0.015625)\"/>\n",
       "      </defs>\n",
       "      <use xlink:href=\"#LiberationSans-73\"/>\n",
       "      <use x=\"50\" xlink:href=\"#LiberationSans-61\"/>\n",
       "      <use x=\"105.615234\" xlink:href=\"#LiberationSans-6c\"/>\n",
       "      <use x=\"127.832031\" xlink:href=\"#LiberationSans-61\"/>\n",
       "      <use x=\"183.447266\" xlink:href=\"#LiberationSans-72\"/>\n",
       "      <use x=\"216.748047\" xlink:href=\"#LiberationSans-79\"/>\n",
       "     </g>\n",
       "    </g>\n",
       "   </g>\n",
       "   <g id=\"patch_3\">\n",
       "    <path clip-path=\"url(#pacd603c61a)\" d=\"M 76.416687 229.41431 \n",
       "L 362.112687 229.41431 \n",
       "L 362.112687 185.119099 \n",
       "L 76.416687 185.119099 \n",
       "L 76.416687 229.41431 \n",
       "z\n",
       "\" style=\"fill:#3274a1;stroke:#3f3f3f;stroke-linejoin:miter;stroke-width:1.5;\"/>\n",
       "   </g>\n",
       "   <g id=\"line2d_10\">\n",
       "    <path clip-path=\"url(#pacd603c61a)\" d=\"M 219.264688 229.41431 \n",
       "L 219.264688 261.216 \n",
       "\" style=\"fill:none;stroke:#3f3f3f;stroke-linecap:round;stroke-width:1.5;\"/>\n",
       "   </g>\n",
       "   <g id=\"line2d_11\">\n",
       "    <path clip-path=\"url(#pacd603c61a)\" d=\"M 219.264688 185.119099 \n",
       "L 219.264688 166.946704 \n",
       "\" style=\"fill:none;stroke:#3f3f3f;stroke-linecap:round;stroke-width:1.5;\"/>\n",
       "   </g>\n",
       "   <g id=\"line2d_12\">\n",
       "    <path clip-path=\"url(#pacd603c61a)\" d=\"M 147.840688 261.216 \n",
       "L 290.688688 261.216 \n",
       "\" style=\"fill:none;stroke:#3f3f3f;stroke-linecap:round;stroke-width:1.5;\"/>\n",
       "   </g>\n",
       "   <g id=\"line2d_13\">\n",
       "    <path clip-path=\"url(#pacd603c61a)\" d=\"M 147.840688 166.946704 \n",
       "L 290.688688 166.946704 \n",
       "\" style=\"fill:none;stroke:#3f3f3f;stroke-linecap:round;stroke-width:1.5;\"/>\n",
       "   </g>\n",
       "   <g id=\"line2d_14\">\n",
       "    <defs>\n",
       "     <path d=\"M -0 3.535534 \n",
       "L 2.12132 0 \n",
       "L -0 -3.535534 \n",
       "L -2.12132 -0 \n",
       "z\n",
       "\" id=\"mca12f0b82b\" style=\"stroke:#3f3f3f;stroke-linejoin:miter;\"/>\n",
       "    </defs>\n",
       "    <g clip-path=\"url(#pacd603c61a)\">\n",
       "     <use style=\"fill:#3f3f3f;stroke:#3f3f3f;stroke-linejoin:miter;\" x=\"219.264688\" xlink:href=\"#mca12f0b82b\" y=\"110.157972\"/>\n",
       "     <use style=\"fill:#3f3f3f;stroke:#3f3f3f;stroke-linejoin:miter;\" x=\"219.264688\" xlink:href=\"#mca12f0b82b\" y=\"19.296\"/>\n",
       "    </g>\n",
       "   </g>\n",
       "   <g id=\"line2d_15\">\n",
       "    <path clip-path=\"url(#pacd603c61a)\" d=\"M 76.416687 201.019944 \n",
       "L 362.112687 201.019944 \n",
       "\" style=\"fill:none;stroke:#3f3f3f;stroke-linecap:round;stroke-width:1.5;\"/>\n",
       "   </g>\n",
       "   <g id=\"patch_4\">\n",
       "    <path d=\"M 40.704688 273.312 \n",
       "L 40.704688 7.2 \n",
       "\" style=\"fill:none;stroke:#cccccc;stroke-linecap:square;stroke-linejoin:miter;\"/>\n",
       "   </g>\n",
       "   <g id=\"patch_5\">\n",
       "    <path d=\"M 397.824687 273.312 \n",
       "L 397.824687 7.2 \n",
       "\" style=\"fill:none;stroke:#cccccc;stroke-linecap:square;stroke-linejoin:miter;\"/>\n",
       "   </g>\n",
       "   <g id=\"patch_6\">\n",
       "    <path d=\"M 40.704688 273.312 \n",
       "L 397.824687 273.312 \n",
       "\" style=\"fill:none;stroke:#cccccc;stroke-linecap:square;stroke-linejoin:miter;\"/>\n",
       "   </g>\n",
       "   <g id=\"patch_7\">\n",
       "    <path d=\"M 40.704688 7.2 \n",
       "L 397.824687 7.2 \n",
       "\" style=\"fill:none;stroke:#cccccc;stroke-linecap:square;stroke-linejoin:miter;\"/>\n",
       "   </g>\n",
       "  </g>\n",
       " </g>\n",
       " <defs>\n",
       "  <clipPath id=\"pacd603c61a\">\n",
       "   <rect height=\"266.112\" width=\"357.12\" x=\"40.704688\" y=\"7.2\"/>\n",
       "  </clipPath>\n",
       " </defs>\n",
       "</svg>\n"
      ],
      "text/plain": [
       "<Figure size 640x480 with 1 Axes>"
      ]
     },
     "metadata": {},
     "output_type": "display_data"
    }
   ],
   "source": [
    "from matplotlib import pyplot as plt\n",
    "import seaborn as sns\n",
    "import pandas as pd\n",
    "\n",
    "plt.style.use('seaborn-whitegrid')\n",
    "%config InlineBackend.figure_formats = ['svg']\n",
    "\n",
    "df = pd.DataFrame(salary, columns=['salary'])\n",
    "sns.boxplot(data=df, y='salary')\n",
    "plt.show()"
   ]
  },
  {
   "cell_type": "markdown",
   "id": "f7086eb0",
   "metadata": {},
   "source": [
    "### Ответ:\n",
    "В представленной выборке два выброса, это значения 150 и 230"
   ]
  },
  {
   "cell_type": "markdown",
   "id": "1b363027",
   "metadata": {},
   "source": [
    "### Задача 3\n",
    "В университет на факультет A поступило 100 человек, на факультет B - 90 человек и на факультет C - 45 человек. Вероятность того, что студент с факультета A сдаст первую сессию, равна 0.6. Для студента с факультета B эта вероятность равна 0.7, а для студента с факультета C - 0.8. Случайным образом выбирается студент, сдавший первую сессию. Какое событие наиболее вероятно:  \n",
    "    __*1*__ студент учится на факультете A,  \n",
    "    __*2*__ студент учится на факультете B,  \n",
    "    __*3*__ студент учится на факультете C?  \n"
   ]
  },
  {
   "cell_type": "markdown",
   "id": "82fe3491",
   "metadata": {},
   "source": [
    "В данном случае можно воспользоваться формулой Байеса и просчитать вероятность для каждого случая при условии H, что студент сдал экзамен. Например для студента c факультета A:\n",
    "### $P(A|H) = \\frac{P(H|A)\\cdot P(A)}{P(H)}$"
   ]
  },
  {
   "cell_type": "markdown",
   "id": "fb087b7b",
   "metadata": {},
   "source": [
    "### $P(H|A)=0.6$\n",
    "### $P(H|B)=0.7$\n",
    "### $P(H|C)=0.8$\n",
    "### $P(A)=\\frac{1}{100}$\n",
    "### $P(B)=\\frac{1}{90}$\n",
    "### $P(C)=\\frac{1}{45}$\n",
    "### $P(H)=P(A)\\cdot P(H|A)+P(B)\\cdot P(H|B)+P(C)\\cdot P(H|C)$"
   ]
  },
  {
   "cell_type": "code",
   "execution_count": 10,
   "id": "f7f07822",
   "metadata": {},
   "outputs": [],
   "source": [
    "pha = 0.6\n",
    "phb = 0.7\n",
    "phc = 0.8\n",
    "pa = 100 / 235\n",
    "pb = 90 / 235\n",
    "pc = 45 / 235"
   ]
  },
  {
   "cell_type": "code",
   "execution_count": 11,
   "id": "70f57177",
   "metadata": {},
   "outputs": [
    {
     "data": {
      "text/plain": [
       "0.676595744680851"
      ]
     },
     "execution_count": 11,
     "metadata": {},
     "output_type": "execute_result"
    }
   ],
   "source": [
    "ph = pa * pha + pb * phb + pc * phc\n",
    "ph"
   ]
  },
  {
   "cell_type": "markdown",
   "id": "250968fb",
   "metadata": {},
   "source": [
    "### $P(A|H)= \\frac{P(H|A)\\cdot P(A)}{P(H)}$"
   ]
  },
  {
   "cell_type": "code",
   "execution_count": 12,
   "id": "c07ecd53",
   "metadata": {},
   "outputs": [
    {
     "data": {
      "text/plain": [
       "0.3773584905660377"
      ]
     },
     "execution_count": 12,
     "metadata": {},
     "output_type": "execute_result"
    }
   ],
   "source": [
    "pah = pha * pa / ph\n",
    "pah"
   ]
  },
  {
   "cell_type": "markdown",
   "id": "ed247ca1",
   "metadata": {},
   "source": [
    "### $P(B|H)= \\frac{P(H|B)\\cdot P(B)}{P(H)}$"
   ]
  },
  {
   "cell_type": "code",
   "execution_count": 13,
   "id": "748eb0fa",
   "metadata": {},
   "outputs": [
    {
     "data": {
      "text/plain": [
       "0.39622641509433965"
      ]
     },
     "execution_count": 13,
     "metadata": {},
     "output_type": "execute_result"
    }
   ],
   "source": [
    "pbh = phb * pb / ph\n",
    "pbh"
   ]
  },
  {
   "cell_type": "markdown",
   "id": "1a92c181",
   "metadata": {},
   "source": [
    "### $P(C|H)= \\frac{P(H|C)\\cdot P(C)}{P(H)}$"
   ]
  },
  {
   "cell_type": "code",
   "execution_count": 15,
   "id": "5ddc15bb",
   "metadata": {},
   "outputs": [
    {
     "data": {
      "text/plain": [
       "0.22641509433962265"
      ]
     },
     "execution_count": 15,
     "metadata": {},
     "output_type": "execute_result"
    }
   ],
   "source": [
    "pch = phc * pc / ph\n",
    "pch"
   ]
  },
  {
   "cell_type": "markdown",
   "id": "2b1f7afd",
   "metadata": {},
   "source": [
    "### Ответ:\n",
    "Более вероятно что студент с факультета В."
   ]
  }
 ],
 "metadata": {
  "kernelspec": {
   "display_name": "Python 3",
   "language": "python",
   "name": "python3"
  },
  "language_info": {
   "codemirror_mode": {
    "name": "ipython",
    "version": 3
   },
   "file_extension": ".py",
   "mimetype": "text/x-python",
   "name": "python",
   "nbconvert_exporter": "python",
   "pygments_lexer": "ipython3",
   "version": "3.8.8"
  }
 },
 "nbformat": 4,
 "nbformat_minor": 5
}
