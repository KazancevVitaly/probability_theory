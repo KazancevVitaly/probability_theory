{
 "cells": [
  {
   "cell_type": "markdown",
   "id": "10a35707",
   "metadata": {},
   "source": [
    "# Видеокурс по теории вероятностей и математической статистике\n",
    "# GeekBrains\n",
    "##  ДЗ Урока 4\n",
    "## Казанцев Виталий"
   ]
  },
  {
   "cell_type": "markdown",
   "id": "0a85c348",
   "metadata": {},
   "source": [
    "# 1.  \n",
    "Случайная непрерывная величина A имеет равномерное распределение на промежутке (200, 800].\n",
    "Найдите ее среднее значение и дисперсию.\n"
   ]
  },
  {
   "cell_type": "code",
   "execution_count": 1,
   "id": "102ef1db",
   "metadata": {},
   "outputs": [
    {
     "name": "stdout",
     "output_type": "stream",
     "text": [
      "Ответ:\n",
      "Среднее значение равно 500.0\n",
      "Дисперсия равна 30000.0\n"
     ]
    }
   ],
   "source": [
    "a = 200\n",
    "b = 800\n",
    "M = (a + b) / 2\n",
    "D = (b - a)**2 / 12\n",
    "print(f'Ответ:\\nСреднее значение равно {M}\\nДисперсия равна {D}')"
   ]
  },
  {
   "cell_type": "markdown",
   "id": "742c1bde",
   "metadata": {},
   "source": [
    "# 2. \n",
    "О случайной непрерывной равномерно распределенной величине B известно, что ее дисперсия равна 0.2.\n",
    "Можно ли найти правую границу величины B и ее среднее значение зная, что левая граница равна 0.5?\n",
    "Если да, найдите ее.\n"
   ]
  },
  {
   "cell_type": "markdown",
   "id": "85add56e",
   "metadata": {},
   "source": [
    "Решение:\n",
    "Да можно.\n",
    "### $D=\\frac{(b-a)^2}{12} \\Rightarrow b = \\sqrt{12D}+a$"
   ]
  },
  {
   "cell_type": "code",
   "execution_count": 2,
   "id": "420ced19",
   "metadata": {},
   "outputs": [
    {
     "name": "stdout",
     "output_type": "stream",
     "text": [
      "Ответ:\n",
      "Правая граница равна 2.049193338482967\n",
      "Среднее значение равно 1.2745966692414834\n"
     ]
    }
   ],
   "source": [
    "D = 0.2\n",
    "a = 0.5\n",
    "b = (12 * D)**(1/2) + a\n",
    "M = (a + b) / 2\n",
    "print(f'Ответ:\\nПравая граница равна {b}\\nСреднее значение равно {M}')"
   ]
  },
  {
   "cell_type": "markdown",
   "id": "e2b6188d",
   "metadata": {},
   "source": [
    "# 3. \n",
    "Непрерывная случайная величина X распределена нормально и задана плотностью распределения\n",
    "$f(x) = \\frac{1}{(4 \\cdot \\sqrt{2\\pi})} \\cdot\\frac{\\exp(-(x+2)^2)}{32}.$  \n",
    "Найдите:\n",
    "а). M(X)\n",
    "б). D(X)\n",
    "в). std(X) (среднее квадратичное отклонение)\n",
    "\n"
   ]
  },
  {
   "cell_type": "markdown",
   "id": "b4a22df9",
   "metadata": {},
   "source": [
    "Ответ:  \n",
    "Из формулы плотности распределения нормально распределенной случайной величины\n",
    "### $f(x) = \\dfrac{1}{\\sqrt{2 \\pi \\sigma^2}} \\cdot \\exp \\left(- \\frac{(x - \\mu)^2}{2 \\sigma^2} \\right)$\n",
    "следует, что\n",
    "### $M(X)=\\mu=-2$\n",
    "### $D(X)=\\sigma^2=16$\n",
    "### $\\sigma=4$"
   ]
  },
  {
   "cell_type": "markdown",
   "id": "9ea8ccd0",
   "metadata": {},
   "source": [
    "# 4.\n",
    "Рост взрослого населения города X имеет нормальное распределение.\n",
    "Причем, средний рост равен 174 см, а среднее квадратичное отклонение равно 8 см.\n",
    "Какова вероятность того, что случайным образом выбранный взрослый человек имеет рост:   \n",
    "__*а)*__. больше 182 см  \n",
    "__*б).*__ больше 190 см  \n",
    "__*в).*__ от 166 см до 190 см  \n",
    "__*г).*__ от 166 см до 182 см  \n",
    "__*д).*__ от 158 см до 190 см  \n",
    "__*е).*__ не выше 150 см или не ниже 190 см  \n",
    "__*ё).*__ не выше 150 см или не ниже 198 см  \n",
    "__*ж).*__ ниже 166 см.  \n"
   ]
  },
  {
   "cell_type": "markdown",
   "id": "05c141c0",
   "metadata": {},
   "source": [
    "Решение:\n",
    "Допустим, что минимальный рост 40 см (младенец), а максимальный не более 250 см"
   ]
  },
  {
   "cell_type": "code",
   "execution_count": 3,
   "id": "d846079e",
   "metadata": {},
   "outputs": [],
   "source": [
    "from scipy import stats\n",
    "from scipy import integrate\n",
    "import numpy as np\n",
    "from matplotlib import pyplot as plt"
   ]
  },
  {
   "cell_type": "code",
   "execution_count": 4,
   "id": "ab1436b1",
   "metadata": {},
   "outputs": [
    {
     "data": {
      "image/png": "[encoded data removed]",
      "text/plain": [
       "<Figure size 640x480 with 1 Axes>"
      ]
     },
     "metadata": {},
     "output_type": "display_data"
    }
   ],
   "source": [
    "ox = np.linspace(40, 250, 1000)\n",
    "oy = stats.norm.pdf(ox, loc=174, scale=8)\n",
    "plt.plot(ox, oy)\n",
    "plt.show()"
   ]
  },
  {
   "cell_type": "code",
   "execution_count": 5,
   "id": "19c843e2",
   "metadata": {},
   "outputs": [],
   "source": [
    "norm = stats.norm(loc=174, scale=8)"
   ]
  },
  {
   "cell_type": "markdown",
   "id": "0b175b4f",
   "metadata": {},
   "source": [
    "### Вероятночть\n",
    "__*а)*__. больше 182 см "
   ]
  },
  {
   "cell_type": "code",
   "execution_count": 6,
   "id": "cc6860b5",
   "metadata": {},
   "outputs": [
    {
     "data": {
      "text/plain": [
       "0.1586552539314569"
      ]
     },
     "execution_count": 6,
     "metadata": {},
     "output_type": "execute_result"
    }
   ],
   "source": [
    "integrate.quad(norm.pdf, 182, 250)[0]"
   ]
  },
  {
   "cell_type": "markdown",
   "id": "a2383e69",
   "metadata": {},
   "source": [
    "__*б).*__ больше 190 см "
   ]
  },
  {
   "cell_type": "code",
   "execution_count": 7,
   "id": "65c2c0ad",
   "metadata": {},
   "outputs": [
    {
     "data": {
      "text/plain": [
       "0.022750131948179226"
      ]
     },
     "execution_count": 7,
     "metadata": {},
     "output_type": "execute_result"
    }
   ],
   "source": [
    "integrate.quad(norm.pdf, 190, 250)[0]"
   ]
  },
  {
   "cell_type": "markdown",
   "id": "006aa076",
   "metadata": {},
   "source": [
    "__*в).*__ от 166 см до 190 см "
   ]
  },
  {
   "cell_type": "code",
   "execution_count": 8,
   "id": "0470926e",
   "metadata": {},
   "outputs": [
    {
     "data": {
      "text/plain": [
       "0.8185946141203638"
      ]
     },
     "execution_count": 8,
     "metadata": {},
     "output_type": "execute_result"
    }
   ],
   "source": [
    "integrate.quad(norm.pdf, 166, 190)[0]"
   ]
  },
  {
   "cell_type": "markdown",
   "id": "d7c6ea8b",
   "metadata": {},
   "source": [
    "__*г).*__ от 166 см до 182 см  "
   ]
  },
  {
   "cell_type": "code",
   "execution_count": 9,
   "id": "773c8f9a",
   "metadata": {},
   "outputs": [
    {
     "data": {
      "text/plain": [
       "0.682689492137086"
      ]
     },
     "execution_count": 9,
     "metadata": {},
     "output_type": "execute_result"
    }
   ],
   "source": [
    "integrate.quad(norm.pdf, 166, 182)[0]"
   ]
  },
  {
   "cell_type": "markdown",
   "id": "93e19eac",
   "metadata": {},
   "source": [
    "__*д).*__ от 158 см до 190 см"
   ]
  },
  {
   "cell_type": "code",
   "execution_count": 10,
   "id": "72ae58e6",
   "metadata": {},
   "outputs": [
    {
     "data": {
      "text/plain": [
       "0.9544997361036414"
      ]
     },
     "execution_count": 10,
     "metadata": {},
     "output_type": "execute_result"
    }
   ],
   "source": [
    "integrate.quad(norm.pdf, 158, 190)[0]"
   ]
  },
  {
   "cell_type": "markdown",
   "id": "3edd6908",
   "metadata": {},
   "source": [
    "__*е).*__ не выше 150 см или не ниже 190 см"
   ]
  },
  {
   "cell_type": "code",
   "execution_count": 11,
   "id": "b79c96b6",
   "metadata": {},
   "outputs": [
    {
     "data": {
      "text/plain": [
       "0.024100029979809326"
      ]
     },
     "execution_count": 11,
     "metadata": {},
     "output_type": "execute_result"
    }
   ],
   "source": [
    "integrate.quad(norm.pdf, 40, 150)[0] + integrate.quad(norm.pdf, 190, 250)[0]"
   ]
  },
  {
   "cell_type": "markdown",
   "id": "58031319",
   "metadata": {},
   "source": [
    "__*ё).*__ не выше 150 см или не ниже 198 см "
   ]
  },
  {
   "cell_type": "code",
   "execution_count": 12,
   "id": "2e29139a",
   "metadata": {},
   "outputs": [
    {
     "data": {
      "text/plain": [
       "0.002699796063260198"
      ]
     },
     "execution_count": 12,
     "metadata": {},
     "output_type": "execute_result"
    }
   ],
   "source": [
    "integrate.quad(norm.pdf, 40, 150)[0] + integrate.quad(norm.pdf, 198, 250)[0]"
   ]
  },
  {
   "cell_type": "markdown",
   "id": "3b7ce028",
   "metadata": {},
   "source": [
    "__*ж).*__ ниже 166 см."
   ]
  },
  {
   "cell_type": "code",
   "execution_count": 13,
   "id": "25ed16e5",
   "metadata": {},
   "outputs": [
    {
     "data": {
      "text/plain": [
       "0.15865525393145707"
      ]
     },
     "execution_count": 13,
     "metadata": {},
     "output_type": "execute_result"
    }
   ],
   "source": [
    "integrate.quad(norm.pdf, 40, 166)[0]"
   ]
  },
  {
   "cell_type": "markdown",
   "id": "dcc6d577",
   "metadata": {},
   "source": [
    "# 5. \n",
    "На сколько сигм (средних квадратичных отклонений) отклоняется рост человека, равный 190 см, от\n",
    "математического ожидания роста в популяции, в которой M(X) = 178 см и D(X) = 25 кв.см?\n"
   ]
  },
  {
   "cell_type": "markdown",
   "id": "893a2e67",
   "metadata": {},
   "source": [
    "Решение:\n",
    "### $\\sigma=\\sqrt{D(X)}=5$\n",
    "### $\\frac{190-178}{5}=2.4$\n",
    "Ответ:\n",
    "на 2.4 стандартных отклонений"
   ]
  }
 ],
 "metadata": {
  "kernelspec": {
   "display_name": "Python 3",
   "language": "python",
   "name": "python3"
  },
  "language_info": {
   "codemirror_mode": {
    "name": "ipython",
    "version": 3
   },
   "file_extension": ".py",
   "mimetype": "text/x-python",
   "name": "python",
   "nbconvert_exporter": "python",
   "pygments_lexer": "ipython3",
   "version": "3.8.8"
  }
 },
 "nbformat": 4,
 "nbformat_minor": 5
}
