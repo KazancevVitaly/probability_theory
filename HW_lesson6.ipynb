{
 "cells": [
  {
   "cell_type": "markdown",
   "id": "6addc18f",
   "metadata": {},
   "source": [
    "# Видеокурс по теории вероятностей и математической статистике\n",
    "# GeekBrains\n",
    "## ДЗ Урока 6\n",
    "## Казанцев Виталий"
   ]
  },
  {
   "cell_type": "markdown",
   "id": "db989a5a",
   "metadata": {},
   "source": [
    "__1.__\n",
    "Даны значения величины заработной платы заемщиков банка (zp) и значения их поведенческого кредитного скоринга (ks):\n",
    "zp = [35, 45, 190, 200, 40, 70, 54, 150, 120, 110],\n",
    "ks = [401, 574, 874, 919, 459, 739, 653, 902, 746, 832].\n",
    "Найдите ковариацию этих двух величин с помощью элементарных действий, а затем с помощью функции cov из numpy\n",
    "Полученные значения должны быть равны.\n",
    "Найдите коэффициент корреляции Пирсона с помощью ковариации и среднеквадратичных отклонений двух признаков,\n",
    "а затем с использованием функций из библиотек numpy и pandas.\n"
   ]
  },
  {
   "cell_type": "code",
   "execution_count": 1,
   "id": "08655f8f",
   "metadata": {},
   "outputs": [],
   "source": [
    "import numpy as np\n",
    "import pandas as pd\n",
    "zp = np.array([35, 45, 190, 200, 40, 70, 54, 150, 120, 110])\n",
    "ks = np.array([401, 574, 874, 919, 459, 739, 653, 902, 746, 832])"
   ]
  },
  {
   "cell_type": "code",
   "execution_count": 2,
   "id": "cb978a5c",
   "metadata": {},
   "outputs": [
    {
     "data": {
      "text/plain": [
       "True"
      ]
     },
     "execution_count": 2,
     "metadata": {},
     "output_type": "execute_result"
    }
   ],
   "source": [
    "zp.shape[0] == ks.shape[0]"
   ]
  },
  {
   "cell_type": "code",
   "execution_count": 3,
   "id": "fb68adae",
   "metadata": {},
   "outputs": [],
   "source": [
    "zp_mean = zp.mean()\n",
    "ks_mean = ks.mean()\n",
    "n = zp.shape[0]"
   ]
  },
  {
   "cell_type": "code",
   "execution_count": 4,
   "id": "89061610",
   "metadata": {},
   "outputs": [
    {
     "data": {
      "text/plain": [
       "10175.37777777778"
      ]
     },
     "execution_count": 4,
     "metadata": {},
     "output_type": "execute_result"
    }
   ],
   "source": [
    "cov = ((zp - zp_mean)*(ks - ks_mean)).sum() / (n - 1)\n",
    "cov"
   ]
  },
  {
   "cell_type": "code",
   "execution_count": 5,
   "id": "01309af8",
   "metadata": {},
   "outputs": [
    {
     "data": {
      "text/plain": [
       "array([[ 3882.93333333, 10175.37777778],\n",
       "       [10175.37777778, 33854.32222222]])"
      ]
     },
     "execution_count": 5,
     "metadata": {},
     "output_type": "execute_result"
    }
   ],
   "source": [
    "np.cov(zp, ks, ddof=1)"
   ]
  },
  {
   "cell_type": "code",
   "execution_count": 6,
   "id": "7d61ab36",
   "metadata": {},
   "outputs": [
    {
     "data": {
      "text/plain": [
       "0.9861001023043514"
      ]
     },
     "execution_count": 6,
     "metadata": {},
     "output_type": "execute_result"
    }
   ],
   "source": [
    "corr = cov / (zp.std() * ks.std())\n",
    "corr"
   ]
  },
  {
   "cell_type": "code",
   "execution_count": 7,
   "id": "ba4f2d8c",
   "metadata": {},
   "outputs": [
    {
     "data": {
      "text/plain": [
       "array([[1.        , 0.88749009],\n",
       "       [0.88749009, 1.        ]])"
      ]
     },
     "execution_count": 7,
     "metadata": {},
     "output_type": "execute_result"
    }
   ],
   "source": [
    "np.corrcoef(zp, ks)"
   ]
  },
  {
   "cell_type": "markdown",
   "id": "c534b127",
   "metadata": {},
   "source": [
    "### Ответ:\n",
    "ковариация равна 10175.37777\n",
    "корреляция равна 0.88"
   ]
  },
  {
   "cell_type": "markdown",
   "id": "37208ad6",
   "metadata": {},
   "source": [
    "__2.__ Измерены значения IQ выборки студентов,\n",
    "обучающихся в местных технических вузах:\n",
    "131, 125, 115, 122, 131, 115, 107, 99, 125, 111.\n",
    "Известно, что в генеральной совокупности IQ распределен нормально.\n",
    "Найдите доверительный интервал для математического ожидания с надежностью 0.95.\n"
   ]
  },
  {
   "cell_type": "code",
   "execution_count": 8,
   "id": "ffe16a8c",
   "metadata": {},
   "outputs": [],
   "source": [
    "from scipy import stats\n",
    "iq = np.array([131, 125, 115, 122, 131, 115, 107, 99, 125, 111])"
   ]
  },
  {
   "cell_type": "code",
   "execution_count": 9,
   "id": "bf16693e",
   "metadata": {},
   "outputs": [
    {
     "data": {
      "text/plain": [
       "(10.004498987955369, 10, 0.95, 118.1)"
      ]
     },
     "execution_count": 9,
     "metadata": {},
     "output_type": "execute_result"
    }
   ],
   "source": [
    "std = iq.std()\n",
    "n = iq.shape[0]\n",
    "p = 0.95\n",
    "mean = iq.mean()\n",
    "std, n, p, mean"
   ]
  },
  {
   "cell_type": "code",
   "execution_count": 10,
   "id": "bf86b74b",
   "metadata": {},
   "outputs": [
    {
     "data": {
      "text/plain": [
       "(-1.959963984540054, 1.959963984540054)"
      ]
     },
     "execution_count": 10,
     "metadata": {},
     "output_type": "execute_result"
    }
   ],
   "source": [
    "alpha = 1 - p\n",
    "t1 = stats.norm.ppf(alpha / 2)\n",
    "t2 = stats.norm.ppf(1 - alpha / 2)    # квантили при двусторонней критической области\n",
    "\n",
    "t1, t2\n"
   ]
  },
  {
   "cell_type": "code",
   "execution_count": 11,
   "id": "288c233c",
   "metadata": {},
   "outputs": [
    {
     "name": "stdout",
     "output_type": "stream",
     "text": [
      "Ответ:\n",
      "интервал от 124.30073877343075 до 111.89926122656924, ширина интервала - 12.401477546861514\n"
     ]
    }
   ],
   "source": [
    "left = mean + t2 * std / np.sqrt(n)\n",
    "right = mean + t1 * std / np.sqrt(n)\n",
    "interval = left - right\n",
    "print(f'Ответ:\\nинтервал от {left} до {right}, ширина интервала - {interval}')"
   ]
  },
  {
   "cell_type": "markdown",
   "id": "8d38eaa9",
   "metadata": {},
   "source": [
    "__3.__ Известно, что рост футболистов в сборной распределен нормально\n",
    "с дисперсией генеральной совокупности, равной 25 кв.см. Объем выборки равен 27,\n",
    "среднее выборочное составляет 174.2. Найдите доверительный интервал для математического\n",
    "ожидания с надежностью 0.95.\n"
   ]
  },
  {
   "cell_type": "code",
   "execution_count": 12,
   "id": "e65cd966",
   "metadata": {},
   "outputs": [],
   "source": [
    "# Условия\n",
    "d = 25        \n",
    "std = d**(1/2)    # вычиляем среднее квадратичное отклонение, корень из дисперсии\n",
    "mean = 174.2\n",
    "n = 27\n",
    "p =0.95"
   ]
  },
  {
   "cell_type": "code",
   "execution_count": 13,
   "id": "2f0c6722",
   "metadata": {},
   "outputs": [
    {
     "data": {
      "text/plain": [
       "(-1.959963984540054, 1.959963984540054)"
      ]
     },
     "execution_count": 13,
     "metadata": {},
     "output_type": "execute_result"
    }
   ],
   "source": [
    "alpha = 1 - p\n",
    "t1 = stats.norm.ppf(alpha / 2)\n",
    "t2 = stats.norm.ppf(1 - alpha / 2)    # квантили при двусторонней критической области\n",
    "\n",
    "t1, t2"
   ]
  },
  {
   "cell_type": "code",
   "execution_count": 14,
   "id": "1d8dc644",
   "metadata": {},
   "outputs": [
    {
     "name": "stdout",
     "output_type": "stream",
     "text": [
      "Ответ:\n",
      "интервал от 176.08597622346028 до 172.3140237765397, ширина интервала - 3.7719524469205794\n"
     ]
    }
   ],
   "source": [
    "left = mean + t2 * std / np.sqrt(n)\n",
    "right = mean + t1 * std / np.sqrt(n)\n",
    "interval = left - right\n",
    "print(f'Ответ:\\nинтервал от {left} до {right}, ширина интервала - {interval}')"
   ]
  },
  {
   "cell_type": "markdown",
   "id": "824411ea",
   "metadata": {},
   "source": [
    "__4.__ Выберите тему для проектной работы по курсу Теории вероятностей и математической статистики\n",
    "и напишите ее в комментарии к Практическому заданию.\n"
   ]
  },
  {
   "cell_type": "code",
   "execution_count": 15,
   "id": "652505d7",
   "metadata": {},
   "outputs": [],
   "source": [
    "# Я НЕ ПОНЯЛ"
   ]
  }
 ],
 "metadata": {
  "kernelspec": {
   "display_name": "Python 3",
   "language": "python",
   "name": "python3"
  },
  "language_info": {
   "codemirror_mode": {
    "name": "ipython",
    "version": 3
   },
   "file_extension": ".py",
   "mimetype": "text/x-python",
   "name": "python",
   "nbconvert_exporter": "python",
   "pygments_lexer": "ipython3",
   "version": "3.8.8"
  }
 },
 "nbformat": 4,
 "nbformat_minor": 5
}
